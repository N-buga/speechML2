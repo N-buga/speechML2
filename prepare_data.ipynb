{
 "cells": [
  {
   "cell_type": "code",
   "execution_count": 1,
   "metadata": {
    "collapsed": true
   },
   "outputs": [],
   "source": [
    "import pandas as pd\n",
    "import numpy as np\n",
    "import os\n",
    "from sklearn.model_selection import train_test_split"
   ]
  },
  {
   "cell_type": "code",
   "execution_count": 2,
   "metadata": {},
   "outputs": [
    {
     "data": {
      "text/plain": [
       "('VCTK-Corpus/txt/p225', 'VCTK-Corpus/wav48/p225')"
      ]
     },
     "execution_count": 2,
     "metadata": {},
     "output_type": "execute_result"
    }
   ],
   "source": [
    "corpus_path = 'VCTK-Corpus'\n",
    "text_path = os.path.join(corpus_path, 'txt')\n",
    "audio_path = os.path.join(corpus_path, 'wav48')\n",
    "group = os.listdir(text_path)[0]\n",
    "text_path = os.path.join(text_path, group)\n",
    "audio_path = os.path.join(audio_path, group)\n",
    "text_path, audio_path"
   ]
  },
  {
   "cell_type": "code",
   "execution_count": 3,
   "metadata": {},
   "outputs": [
    {
     "data": {
      "text/plain": [
       "231"
      ]
     },
     "execution_count": 3,
     "metadata": {},
     "output_type": "execute_result"
    }
   ],
   "source": [
    "texts = os.listdir(text_path)\n",
    "audios = os.listdir(audio_path)\n",
    "audio_names = [audio.split('.')[0] for audio in audios]\n",
    "text_names = [text.split('.')[0] for text in texts]\n",
    "assert audio_names == text_names\n",
    "len(audio_names)"
   ]
  },
  {
   "cell_type": "code",
   "execution_count": 4,
   "metadata": {},
   "outputs": [],
   "source": [
    "learn_rate = 0.7\n",
    "learn, test = train_test_split(audio_names, test_size=0.3)\n",
    "train_file, validate_file = 'train.csv', 'validate.csv'"
   ]
  },
  {
   "cell_type": "code",
   "execution_count": 5,
   "metadata": {},
   "outputs": [],
   "source": [
    "with open(train_file, 'w') as file_to:\n",
    "    for num, name in enumerate(learn):\n",
    "        print(os.path.join(audio_path, name + '.wav'), file=file_to, end=',')\n",
    "        print(os.path.join(text_path, name + '.txt'), file=file_to)"
   ]
  },
  {
   "cell_type": "code",
   "execution_count": 6,
   "metadata": {
    "collapsed": true
   },
   "outputs": [],
   "source": [
    "with open(validate_file, 'w') as file_to:\n",
    "    for num, name in enumerate(test):\n",
    "        print(os.path.join(audio_path, name + '.wav'), file=file_to, end=',')\n",
    "        print(os.path.join(text_path, name + '.txt'), file=file_to)"
   ]
  },
  {
   "cell_type": "code",
   "execution_count": null,
   "metadata": {
    "collapsed": true
   },
   "outputs": [],
   "source": []
  }
 ],
 "metadata": {
  "kernelspec": {
   "display_name": "Python 3",
   "language": "python",
   "name": "python3"
  },
  "language_info": {
   "codemirror_mode": {
    "name": "ipython",
    "version": 3
   },
   "file_extension": ".py",
   "mimetype": "text/x-python",
   "name": "python",
   "nbconvert_exporter": "python",
   "pygments_lexer": "ipython3",
   "version": "3.6.1"
  }
 },
 "nbformat": 4,
 "nbformat_minor": 2
}
