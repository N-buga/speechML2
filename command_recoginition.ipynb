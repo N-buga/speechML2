{
 "cells": [
  {
   "cell_type": "code",
   "execution_count": 1,
   "metadata": {},
   "outputs": [],
   "source": [
    "import pandas as pd\n",
    "import numpy as np\n",
    "import os\n",
    "from shutil import copyfile"
   ]
  },
  {
   "cell_type": "markdown",
   "metadata": {},
   "source": [
    "# Prepare data"
   ]
  },
  {
   "cell_type": "code",
   "execution_count": 2,
   "metadata": {},
   "outputs": [],
   "source": [
    "root_dir = 'train'\n",
    "audio_dir = 'train/audio'\n",
    "val_list_file_name = os.path.join(root_dir, 'validation_list.txt')\n",
    "test_list_file_name = os.path.join(root_dir, 'testing_list.txt')\n",
    "with open(val_list_file_name, 'r') as file_from:\n",
    "    val_list = file_from.read().split()\n",
    "with open(test_list_file_name, 'r') as file_from:\n",
    "    test_list = file_from.read().split()"
   ]
  },
  {
   "cell_type": "code",
   "execution_count": 3,
   "metadata": {},
   "outputs": [
    {
     "data": {
      "text/plain": [
       "(['bed/026290a7_nohash_0.wav',\n",
       "  'bed/060cd039_nohash_0.wav',\n",
       "  'bed/060cd039_nohash_1.wav',\n",
       "  'bed/099d52ad_nohash_0.wav',\n",
       "  'bed/0e17f595_nohash_0.wav'],\n",
       " ['bed/0c40e715_nohash_0.wav',\n",
       "  'bed/0ea0e2f4_nohash_0.wav',\n",
       "  'bed/0ea0e2f4_nohash_1.wav',\n",
       "  'bed/105a0eea_nohash_0.wav',\n",
       "  'bed/1528225c_nohash_0.wav'])"
      ]
     },
     "execution_count": 3,
     "metadata": {},
     "output_type": "execute_result"
    }
   ],
   "source": [
    "val_list[:5], test_list[:5]"
   ]
  },
  {
   "cell_type": "code",
   "execution_count": 4,
   "metadata": {},
   "outputs": [],
   "source": [
    "! mkdir -p 'validate'\n",
    "! mkdir -p 'test'\n",
    "! mkdir -p 'learn'"
   ]
  },
  {
   "cell_type": "code",
   "execution_count": 7,
   "metadata": {},
   "outputs": [
    {
     "name": "stdout",
     "output_type": "stream",
     "text": [
      "right\n"
     ]
    },
    {
     "data": {
      "application/vnd.jupyter.widget-view+json": {
       "model_id": "51b71628f68848c6a6f2e2ad8b3bc93f",
       "version_major": 2,
       "version_minor": 0
      },
      "text/html": [
       "<p>Failed to display Jupyter Widget of type <code>HBox</code>.</p>\n",
       "<p>\n",
       "  If you're reading this message in the Jupyter Notebook or JupyterLab Notebook, it may mean\n",
       "  that the widgets JavaScript is still loading. If this message persists, it\n",
       "  likely means that the widgets JavaScript library is either not installed or\n",
       "  not enabled. See the <a href=\"https://ipywidgets.readthedocs.io/en/stable/user_install.html\">Jupyter\n",
       "  Widgets Documentation</a> for setup instructions.\n",
       "</p>\n",
       "<p>\n",
       "  If you're reading this message in another frontend (for example, a static\n",
       "  rendering on GitHub or <a href=\"https://nbviewer.jupyter.org/\">NBViewer</a>),\n",
       "  it may mean that your frontend doesn't currently support widgets.\n",
       "</p>\n"
      ],
      "text/plain": [
       "HBox(children=(IntProgress(value=0, max=2367), HTML(value='')))"
      ]
     },
     "metadata": {},
     "output_type": "display_data"
    },
    {
     "name": "stdout",
     "output_type": "stream",
     "text": [
      "\n",
      "eight\n"
     ]
    },
    {
     "data": {
      "application/vnd.jupyter.widget-view+json": {
       "model_id": "acb48a448407499cab716388a50947ca",
       "version_major": 2,
       "version_minor": 0
      },
      "text/html": [
       "<p>Failed to display Jupyter Widget of type <code>HBox</code>.</p>\n",
       "<p>\n",
       "  If you're reading this message in the Jupyter Notebook or JupyterLab Notebook, it may mean\n",
       "  that the widgets JavaScript is still loading. If this message persists, it\n",
       "  likely means that the widgets JavaScript library is either not installed or\n",
       "  not enabled. See the <a href=\"https://ipywidgets.readthedocs.io/en/stable/user_install.html\">Jupyter\n",
       "  Widgets Documentation</a> for setup instructions.\n",
       "</p>\n",
       "<p>\n",
       "  If you're reading this message in another frontend (for example, a static\n",
       "  rendering on GitHub or <a href=\"https://nbviewer.jupyter.org/\">NBViewer</a>),\n",
       "  it may mean that your frontend doesn't currently support widgets.\n",
       "</p>\n"
      ],
      "text/plain": [
       "HBox(children=(IntProgress(value=0, max=2352), HTML(value='')))"
      ]
     },
     "metadata": {},
     "output_type": "display_data"
    },
    {
     "name": "stdout",
     "output_type": "stream",
     "text": [
      "\n",
      "cat\n"
     ]
    },
    {
     "data": {
      "application/vnd.jupyter.widget-view+json": {
       "model_id": "5c83a70796414b0cb45ba99b07c697cc",
       "version_major": 2,
       "version_minor": 0
      },
      "text/html": [
       "<p>Failed to display Jupyter Widget of type <code>HBox</code>.</p>\n",
       "<p>\n",
       "  If you're reading this message in the Jupyter Notebook or JupyterLab Notebook, it may mean\n",
       "  that the widgets JavaScript is still loading. If this message persists, it\n",
       "  likely means that the widgets JavaScript library is either not installed or\n",
       "  not enabled. See the <a href=\"https://ipywidgets.readthedocs.io/en/stable/user_install.html\">Jupyter\n",
       "  Widgets Documentation</a> for setup instructions.\n",
       "</p>\n",
       "<p>\n",
       "  If you're reading this message in another frontend (for example, a static\n",
       "  rendering on GitHub or <a href=\"https://nbviewer.jupyter.org/\">NBViewer</a>),\n",
       "  it may mean that your frontend doesn't currently support widgets.\n",
       "</p>\n"
      ],
      "text/plain": [
       "HBox(children=(IntProgress(value=0, max=1733), HTML(value='')))"
      ]
     },
     "metadata": {},
     "output_type": "display_data"
    },
    {
     "name": "stdout",
     "output_type": "stream",
     "text": [
      "\n",
      "tree\n"
     ]
    },
    {
     "data": {
      "application/vnd.jupyter.widget-view+json": {
       "model_id": "a931fec71f654e63b6d765e60664d1f5",
       "version_major": 2,
       "version_minor": 0
      },
      "text/html": [
       "<p>Failed to display Jupyter Widget of type <code>HBox</code>.</p>\n",
       "<p>\n",
       "  If you're reading this message in the Jupyter Notebook or JupyterLab Notebook, it may mean\n",
       "  that the widgets JavaScript is still loading. If this message persists, it\n",
       "  likely means that the widgets JavaScript library is either not installed or\n",
       "  not enabled. See the <a href=\"https://ipywidgets.readthedocs.io/en/stable/user_install.html\">Jupyter\n",
       "  Widgets Documentation</a> for setup instructions.\n",
       "</p>\n",
       "<p>\n",
       "  If you're reading this message in another frontend (for example, a static\n",
       "  rendering on GitHub or <a href=\"https://nbviewer.jupyter.org/\">NBViewer</a>),\n",
       "  it may mean that your frontend doesn't currently support widgets.\n",
       "</p>\n"
      ],
      "text/plain": [
       "HBox(children=(IntProgress(value=0, max=1733), HTML(value='')))"
      ]
     },
     "metadata": {},
     "output_type": "display_data"
    },
    {
     "name": "stdout",
     "output_type": "stream",
     "text": [
      "\n",
      "bed\n"
     ]
    },
    {
     "data": {
      "application/vnd.jupyter.widget-view+json": {
       "model_id": "595d4ca06e604fbca69a55a3ed3a488a",
       "version_major": 2,
       "version_minor": 0
      },
      "text/html": [
       "<p>Failed to display Jupyter Widget of type <code>HBox</code>.</p>\n",
       "<p>\n",
       "  If you're reading this message in the Jupyter Notebook or JupyterLab Notebook, it may mean\n",
       "  that the widgets JavaScript is still loading. If this message persists, it\n",
       "  likely means that the widgets JavaScript library is either not installed or\n",
       "  not enabled. See the <a href=\"https://ipywidgets.readthedocs.io/en/stable/user_install.html\">Jupyter\n",
       "  Widgets Documentation</a> for setup instructions.\n",
       "</p>\n",
       "<p>\n",
       "  If you're reading this message in another frontend (for example, a static\n",
       "  rendering on GitHub or <a href=\"https://nbviewer.jupyter.org/\">NBViewer</a>),\n",
       "  it may mean that your frontend doesn't currently support widgets.\n",
       "</p>\n"
      ],
      "text/plain": [
       "HBox(children=(IntProgress(value=0, max=1713), HTML(value='')))"
      ]
     },
     "metadata": {},
     "output_type": "display_data"
    },
    {
     "name": "stdout",
     "output_type": "stream",
     "text": [
      "\n",
      "happy\n"
     ]
    },
    {
     "data": {
      "application/vnd.jupyter.widget-view+json": {
       "model_id": "500a8074d67a435893faa005aa9596fc",
       "version_major": 2,
       "version_minor": 0
      },
      "text/html": [
       "<p>Failed to display Jupyter Widget of type <code>HBox</code>.</p>\n",
       "<p>\n",
       "  If you're reading this message in the Jupyter Notebook or JupyterLab Notebook, it may mean\n",
       "  that the widgets JavaScript is still loading. If this message persists, it\n",
       "  likely means that the widgets JavaScript library is either not installed or\n",
       "  not enabled. See the <a href=\"https://ipywidgets.readthedocs.io/en/stable/user_install.html\">Jupyter\n",
       "  Widgets Documentation</a> for setup instructions.\n",
       "</p>\n",
       "<p>\n",
       "  If you're reading this message in another frontend (for example, a static\n",
       "  rendering on GitHub or <a href=\"https://nbviewer.jupyter.org/\">NBViewer</a>),\n",
       "  it may mean that your frontend doesn't currently support widgets.\n",
       "</p>\n"
      ],
      "text/plain": [
       "HBox(children=(IntProgress(value=0, max=1742), HTML(value='')))"
      ]
     },
     "metadata": {},
     "output_type": "display_data"
    },
    {
     "name": "stdout",
     "output_type": "stream",
     "text": [
      "\n",
      "go\n"
     ]
    },
    {
     "data": {
      "application/vnd.jupyter.widget-view+json": {
       "model_id": "b420faaf41914c5aa123ff0abb32e806",
       "version_major": 2,
       "version_minor": 0
      },
      "text/html": [
       "<p>Failed to display Jupyter Widget of type <code>HBox</code>.</p>\n",
       "<p>\n",
       "  If you're reading this message in the Jupyter Notebook or JupyterLab Notebook, it may mean\n",
       "  that the widgets JavaScript is still loading. If this message persists, it\n",
       "  likely means that the widgets JavaScript library is either not installed or\n",
       "  not enabled. See the <a href=\"https://ipywidgets.readthedocs.io/en/stable/user_install.html\">Jupyter\n",
       "  Widgets Documentation</a> for setup instructions.\n",
       "</p>\n",
       "<p>\n",
       "  If you're reading this message in another frontend (for example, a static\n",
       "  rendering on GitHub or <a href=\"https://nbviewer.jupyter.org/\">NBViewer</a>),\n",
       "  it may mean that your frontend doesn't currently support widgets.\n",
       "</p>\n"
      ],
      "text/plain": [
       "HBox(children=(IntProgress(value=0, max=2372), HTML(value='')))"
      ]
     },
     "metadata": {},
     "output_type": "display_data"
    },
    {
     "name": "stdout",
     "output_type": "stream",
     "text": [
      "\n",
      "dog\n"
     ]
    },
    {
     "data": {
      "application/vnd.jupyter.widget-view+json": {
       "model_id": "132e434552d94433944b7822ef565b25",
       "version_major": 2,
       "version_minor": 0
      },
      "text/html": [
       "<p>Failed to display Jupyter Widget of type <code>HBox</code>.</p>\n",
       "<p>\n",
       "  If you're reading this message in the Jupyter Notebook or JupyterLab Notebook, it may mean\n",
       "  that the widgets JavaScript is still loading. If this message persists, it\n",
       "  likely means that the widgets JavaScript library is either not installed or\n",
       "  not enabled. See the <a href=\"https://ipywidgets.readthedocs.io/en/stable/user_install.html\">Jupyter\n",
       "  Widgets Documentation</a> for setup instructions.\n",
       "</p>\n",
       "<p>\n",
       "  If you're reading this message in another frontend (for example, a static\n",
       "  rendering on GitHub or <a href=\"https://nbviewer.jupyter.org/\">NBViewer</a>),\n",
       "  it may mean that your frontend doesn't currently support widgets.\n",
       "</p>\n"
      ],
      "text/plain": [
       "HBox(children=(IntProgress(value=0, max=1746), HTML(value='')))"
      ]
     },
     "metadata": {},
     "output_type": "display_data"
    },
    {
     "name": "stdout",
     "output_type": "stream",
     "text": [
      "\n",
      "no\n"
     ]
    },
    {
     "data": {
      "application/vnd.jupyter.widget-view+json": {
       "model_id": "b24687e22008475d81ffc2fe5e577247",
       "version_major": 2,
       "version_minor": 0
      },
      "text/html": [
       "<p>Failed to display Jupyter Widget of type <code>HBox</code>.</p>\n",
       "<p>\n",
       "  If you're reading this message in the Jupyter Notebook or JupyterLab Notebook, it may mean\n",
       "  that the widgets JavaScript is still loading. If this message persists, it\n",
       "  likely means that the widgets JavaScript library is either not installed or\n",
       "  not enabled. See the <a href=\"https://ipywidgets.readthedocs.io/en/stable/user_install.html\">Jupyter\n",
       "  Widgets Documentation</a> for setup instructions.\n",
       "</p>\n",
       "<p>\n",
       "  If you're reading this message in another frontend (for example, a static\n",
       "  rendering on GitHub or <a href=\"https://nbviewer.jupyter.org/\">NBViewer</a>),\n",
       "  it may mean that your frontend doesn't currently support widgets.\n",
       "</p>\n"
      ],
      "text/plain": [
       "HBox(children=(IntProgress(value=0, max=2375), HTML(value='')))"
      ]
     },
     "metadata": {},
     "output_type": "display_data"
    },
    {
     "name": "stdout",
     "output_type": "stream",
     "text": [
      "\n",
      "wow\n"
     ]
    },
    {
     "data": {
      "application/vnd.jupyter.widget-view+json": {
       "model_id": "7793d89e96ae4d0d9f40fa205cced24c",
       "version_major": 2,
       "version_minor": 0
      },
      "text/html": [
       "<p>Failed to display Jupyter Widget of type <code>HBox</code>.</p>\n",
       "<p>\n",
       "  If you're reading this message in the Jupyter Notebook or JupyterLab Notebook, it may mean\n",
       "  that the widgets JavaScript is still loading. If this message persists, it\n",
       "  likely means that the widgets JavaScript library is either not installed or\n",
       "  not enabled. See the <a href=\"https://ipywidgets.readthedocs.io/en/stable/user_install.html\">Jupyter\n",
       "  Widgets Documentation</a> for setup instructions.\n",
       "</p>\n",
       "<p>\n",
       "  If you're reading this message in another frontend (for example, a static\n",
       "  rendering on GitHub or <a href=\"https://nbviewer.jupyter.org/\">NBViewer</a>),\n",
       "  it may mean that your frontend doesn't currently support widgets.\n",
       "</p>\n"
      ],
      "text/plain": [
       "HBox(children=(IntProgress(value=0, max=1745), HTML(value='')))"
      ]
     },
     "metadata": {},
     "output_type": "display_data"
    },
    {
     "name": "stdout",
     "output_type": "stream",
     "text": [
      "\n",
      "nine\n"
     ]
    },
    {
     "data": {
      "application/vnd.jupyter.widget-view+json": {
       "model_id": "cd0a4ccee453422a8b637dec6a0ebef7",
       "version_major": 2,
       "version_minor": 0
      },
      "text/html": [
       "<p>Failed to display Jupyter Widget of type <code>HBox</code>.</p>\n",
       "<p>\n",
       "  If you're reading this message in the Jupyter Notebook or JupyterLab Notebook, it may mean\n",
       "  that the widgets JavaScript is still loading. If this message persists, it\n",
       "  likely means that the widgets JavaScript library is either not installed or\n",
       "  not enabled. See the <a href=\"https://ipywidgets.readthedocs.io/en/stable/user_install.html\">Jupyter\n",
       "  Widgets Documentation</a> for setup instructions.\n",
       "</p>\n",
       "<p>\n",
       "  If you're reading this message in another frontend (for example, a static\n",
       "  rendering on GitHub or <a href=\"https://nbviewer.jupyter.org/\">NBViewer</a>),\n",
       "  it may mean that your frontend doesn't currently support widgets.\n",
       "</p>\n"
      ],
      "text/plain": [
       "HBox(children=(IntProgress(value=0, max=2364), HTML(value='')))"
      ]
     },
     "metadata": {},
     "output_type": "display_data"
    },
    {
     "name": "stdout",
     "output_type": "stream",
     "text": [
      "\n",
      "left\n"
     ]
    },
    {
     "data": {
      "application/vnd.jupyter.widget-view+json": {
       "model_id": "4e9889797c8e488babbc073963a3fbd5",
       "version_major": 2,
       "version_minor": 0
      },
      "text/html": [
       "<p>Failed to display Jupyter Widget of type <code>HBox</code>.</p>\n",
       "<p>\n",
       "  If you're reading this message in the Jupyter Notebook or JupyterLab Notebook, it may mean\n",
       "  that the widgets JavaScript is still loading. If this message persists, it\n",
       "  likely means that the widgets JavaScript library is either not installed or\n",
       "  not enabled. See the <a href=\"https://ipywidgets.readthedocs.io/en/stable/user_install.html\">Jupyter\n",
       "  Widgets Documentation</a> for setup instructions.\n",
       "</p>\n",
       "<p>\n",
       "  If you're reading this message in another frontend (for example, a static\n",
       "  rendering on GitHub or <a href=\"https://nbviewer.jupyter.org/\">NBViewer</a>),\n",
       "  it may mean that your frontend doesn't currently support widgets.\n",
       "</p>\n"
      ],
      "text/plain": [
       "HBox(children=(IntProgress(value=0, max=2353), HTML(value='')))"
      ]
     },
     "metadata": {},
     "output_type": "display_data"
    },
    {
     "name": "stdout",
     "output_type": "stream",
     "text": [
      "\n",
      "stop\n"
     ]
    },
    {
     "data": {
      "application/vnd.jupyter.widget-view+json": {
       "model_id": "3babdd51f5f0449bbe32a88ec5d28c40",
       "version_major": 2,
       "version_minor": 0
      },
      "text/html": [
       "<p>Failed to display Jupyter Widget of type <code>HBox</code>.</p>\n",
       "<p>\n",
       "  If you're reading this message in the Jupyter Notebook or JupyterLab Notebook, it may mean\n",
       "  that the widgets JavaScript is still loading. If this message persists, it\n",
       "  likely means that the widgets JavaScript library is either not installed or\n",
       "  not enabled. See the <a href=\"https://ipywidgets.readthedocs.io/en/stable/user_install.html\">Jupyter\n",
       "  Widgets Documentation</a> for setup instructions.\n",
       "</p>\n",
       "<p>\n",
       "  If you're reading this message in another frontend (for example, a static\n",
       "  rendering on GitHub or <a href=\"https://nbviewer.jupyter.org/\">NBViewer</a>),\n",
       "  it may mean that your frontend doesn't currently support widgets.\n",
       "</p>\n"
      ],
      "text/plain": [
       "HBox(children=(IntProgress(value=0, max=2380), HTML(value='')))"
      ]
     },
     "metadata": {},
     "output_type": "display_data"
    },
    {
     "name": "stdout",
     "output_type": "stream",
     "text": [
      "\n",
      "three\n"
     ]
    },
    {
     "data": {
      "application/vnd.jupyter.widget-view+json": {
       "model_id": "bf5f1e6176d64fe6a01f3e2ca617e08f",
       "version_major": 2,
       "version_minor": 0
      },
      "text/html": [
       "<p>Failed to display Jupyter Widget of type <code>HBox</code>.</p>\n",
       "<p>\n",
       "  If you're reading this message in the Jupyter Notebook or JupyterLab Notebook, it may mean\n",
       "  that the widgets JavaScript is still loading. If this message persists, it\n",
       "  likely means that the widgets JavaScript library is either not installed or\n",
       "  not enabled. See the <a href=\"https://ipywidgets.readthedocs.io/en/stable/user_install.html\">Jupyter\n",
       "  Widgets Documentation</a> for setup instructions.\n",
       "</p>\n",
       "<p>\n",
       "  If you're reading this message in another frontend (for example, a static\n",
       "  rendering on GitHub or <a href=\"https://nbviewer.jupyter.org/\">NBViewer</a>),\n",
       "  it may mean that your frontend doesn't currently support widgets.\n",
       "</p>\n"
      ],
      "text/plain": [
       "HBox(children=(IntProgress(value=0, max=2356), HTML(value='')))"
      ]
     },
     "metadata": {},
     "output_type": "display_data"
    },
    {
     "name": "stdout",
     "output_type": "stream",
     "text": [
      "\n",
      "_background_noise_\n",
      "sheila\n"
     ]
    },
    {
     "data": {
      "application/vnd.jupyter.widget-view+json": {
       "model_id": "fa2faf49e860448893c9f8318d04770e",
       "version_major": 2,
       "version_minor": 0
      },
      "text/html": [
       "<p>Failed to display Jupyter Widget of type <code>HBox</code>.</p>\n",
       "<p>\n",
       "  If you're reading this message in the Jupyter Notebook or JupyterLab Notebook, it may mean\n",
       "  that the widgets JavaScript is still loading. If this message persists, it\n",
       "  likely means that the widgets JavaScript library is either not installed or\n",
       "  not enabled. See the <a href=\"https://ipywidgets.readthedocs.io/en/stable/user_install.html\">Jupyter\n",
       "  Widgets Documentation</a> for setup instructions.\n",
       "</p>\n",
       "<p>\n",
       "  If you're reading this message in another frontend (for example, a static\n",
       "  rendering on GitHub or <a href=\"https://nbviewer.jupyter.org/\">NBViewer</a>),\n",
       "  it may mean that your frontend doesn't currently support widgets.\n",
       "</p>\n"
      ],
      "text/plain": [
       "HBox(children=(IntProgress(value=0, max=1734), HTML(value='')))"
      ]
     },
     "metadata": {},
     "output_type": "display_data"
    },
    {
     "name": "stdout",
     "output_type": "stream",
     "text": [
      "\n",
      "one\n"
     ]
    },
    {
     "data": {
      "application/vnd.jupyter.widget-view+json": {
       "model_id": "bb867311cb464e52ad8fc7f9a6f479a1",
       "version_major": 2,
       "version_minor": 0
      },
      "text/html": [
       "<p>Failed to display Jupyter Widget of type <code>HBox</code>.</p>\n",
       "<p>\n",
       "  If you're reading this message in the Jupyter Notebook or JupyterLab Notebook, it may mean\n",
       "  that the widgets JavaScript is still loading. If this message persists, it\n",
       "  likely means that the widgets JavaScript library is either not installed or\n",
       "  not enabled. See the <a href=\"https://ipywidgets.readthedocs.io/en/stable/user_install.html\">Jupyter\n",
       "  Widgets Documentation</a> for setup instructions.\n",
       "</p>\n",
       "<p>\n",
       "  If you're reading this message in another frontend (for example, a static\n",
       "  rendering on GitHub or <a href=\"https://nbviewer.jupyter.org/\">NBViewer</a>),\n",
       "  it may mean that your frontend doesn't currently support widgets.\n",
       "</p>\n"
      ],
      "text/plain": [
       "HBox(children=(IntProgress(value=0, max=2370), HTML(value='')))"
      ]
     },
     "metadata": {},
     "output_type": "display_data"
    },
    {
     "name": "stdout",
     "output_type": "stream",
     "text": [
      "\n",
      "bird\n"
     ]
    },
    {
     "data": {
      "application/vnd.jupyter.widget-view+json": {
       "model_id": "c97c399d2c5147899d73cd6cf7e54e83",
       "version_major": 2,
       "version_minor": 0
      },
      "text/html": [
       "<p>Failed to display Jupyter Widget of type <code>HBox</code>.</p>\n",
       "<p>\n",
       "  If you're reading this message in the Jupyter Notebook or JupyterLab Notebook, it may mean\n",
       "  that the widgets JavaScript is still loading. If this message persists, it\n",
       "  likely means that the widgets JavaScript library is either not installed or\n",
       "  not enabled. See the <a href=\"https://ipywidgets.readthedocs.io/en/stable/user_install.html\">Jupyter\n",
       "  Widgets Documentation</a> for setup instructions.\n",
       "</p>\n",
       "<p>\n",
       "  If you're reading this message in another frontend (for example, a static\n",
       "  rendering on GitHub or <a href=\"https://nbviewer.jupyter.org/\">NBViewer</a>),\n",
       "  it may mean that your frontend doesn't currently support widgets.\n",
       "</p>\n"
      ],
      "text/plain": [
       "HBox(children=(IntProgress(value=0, max=1731), HTML(value='')))"
      ]
     },
     "metadata": {},
     "output_type": "display_data"
    },
    {
     "name": "stdout",
     "output_type": "stream",
     "text": [
      "\n",
      "zero\n"
     ]
    },
    {
     "data": {
      "application/vnd.jupyter.widget-view+json": {
       "model_id": "6c6aa5976745457f8e4b2456ab874601",
       "version_major": 2,
       "version_minor": 0
      },
      "text/html": [
       "<p>Failed to display Jupyter Widget of type <code>HBox</code>.</p>\n",
       "<p>\n",
       "  If you're reading this message in the Jupyter Notebook or JupyterLab Notebook, it may mean\n",
       "  that the widgets JavaScript is still loading. If this message persists, it\n",
       "  likely means that the widgets JavaScript library is either not installed or\n",
       "  not enabled. See the <a href=\"https://ipywidgets.readthedocs.io/en/stable/user_install.html\">Jupyter\n",
       "  Widgets Documentation</a> for setup instructions.\n",
       "</p>\n",
       "<p>\n",
       "  If you're reading this message in another frontend (for example, a static\n",
       "  rendering on GitHub or <a href=\"https://nbviewer.jupyter.org/\">NBViewer</a>),\n",
       "  it may mean that your frontend doesn't currently support widgets.\n",
       "</p>\n"
      ],
      "text/plain": [
       "HBox(children=(IntProgress(value=0, max=2376), HTML(value='')))"
      ]
     },
     "metadata": {},
     "output_type": "display_data"
    },
    {
     "name": "stdout",
     "output_type": "stream",
     "text": [
      "\n",
      "seven\n"
     ]
    },
    {
     "data": {
      "application/vnd.jupyter.widget-view+json": {
       "model_id": "ae179cd1595649ca879005132121748a",
       "version_major": 2,
       "version_minor": 0
      },
      "text/html": [
       "<p>Failed to display Jupyter Widget of type <code>HBox</code>.</p>\n",
       "<p>\n",
       "  If you're reading this message in the Jupyter Notebook or JupyterLab Notebook, it may mean\n",
       "  that the widgets JavaScript is still loading. If this message persists, it\n",
       "  likely means that the widgets JavaScript library is either not installed or\n",
       "  not enabled. See the <a href=\"https://ipywidgets.readthedocs.io/en/stable/user_install.html\">Jupyter\n",
       "  Widgets Documentation</a> for setup instructions.\n",
       "</p>\n",
       "<p>\n",
       "  If you're reading this message in another frontend (for example, a static\n",
       "  rendering on GitHub or <a href=\"https://nbviewer.jupyter.org/\">NBViewer</a>),\n",
       "  it may mean that your frontend doesn't currently support widgets.\n",
       "</p>\n"
      ],
      "text/plain": [
       "HBox(children=(IntProgress(value=0, max=2377), HTML(value='')))"
      ]
     },
     "metadata": {},
     "output_type": "display_data"
    },
    {
     "name": "stdout",
     "output_type": "stream",
     "text": [
      "\n",
      "up\n"
     ]
    },
    {
     "data": {
      "application/vnd.jupyter.widget-view+json": {
       "model_id": "bb6d22b43af84f779666f416d7f5b973",
       "version_major": 2,
       "version_minor": 0
      },
      "text/html": [
       "<p>Failed to display Jupyter Widget of type <code>HBox</code>.</p>\n",
       "<p>\n",
       "  If you're reading this message in the Jupyter Notebook or JupyterLab Notebook, it may mean\n",
       "  that the widgets JavaScript is still loading. If this message persists, it\n",
       "  likely means that the widgets JavaScript library is either not installed or\n",
       "  not enabled. See the <a href=\"https://ipywidgets.readthedocs.io/en/stable/user_install.html\">Jupyter\n",
       "  Widgets Documentation</a> for setup instructions.\n",
       "</p>\n",
       "<p>\n",
       "  If you're reading this message in another frontend (for example, a static\n",
       "  rendering on GitHub or <a href=\"https://nbviewer.jupyter.org/\">NBViewer</a>),\n",
       "  it may mean that your frontend doesn't currently support widgets.\n",
       "</p>\n"
      ],
      "text/plain": [
       "HBox(children=(IntProgress(value=0, max=2375), HTML(value='')))"
      ]
     },
     "metadata": {},
     "output_type": "display_data"
    },
    {
     "name": "stdout",
     "output_type": "stream",
     "text": [
      "\n",
      "marvin\n"
     ]
    },
    {
     "data": {
      "application/vnd.jupyter.widget-view+json": {
       "model_id": "d902a951fb6d424faef56665414e2778",
       "version_major": 2,
       "version_minor": 0
      },
      "text/html": [
       "<p>Failed to display Jupyter Widget of type <code>HBox</code>.</p>\n",
       "<p>\n",
       "  If you're reading this message in the Jupyter Notebook or JupyterLab Notebook, it may mean\n",
       "  that the widgets JavaScript is still loading. If this message persists, it\n",
       "  likely means that the widgets JavaScript library is either not installed or\n",
       "  not enabled. See the <a href=\"https://ipywidgets.readthedocs.io/en/stable/user_install.html\">Jupyter\n",
       "  Widgets Documentation</a> for setup instructions.\n",
       "</p>\n",
       "<p>\n",
       "  If you're reading this message in another frontend (for example, a static\n",
       "  rendering on GitHub or <a href=\"https://nbviewer.jupyter.org/\">NBViewer</a>),\n",
       "  it may mean that your frontend doesn't currently support widgets.\n",
       "</p>\n"
      ],
      "text/plain": [
       "HBox(children=(IntProgress(value=0, max=1746), HTML(value='')))"
      ]
     },
     "metadata": {},
     "output_type": "display_data"
    },
    {
     "name": "stdout",
     "output_type": "stream",
     "text": [
      "\n",
      "two\n"
     ]
    },
    {
     "data": {
      "application/vnd.jupyter.widget-view+json": {
       "model_id": "d337398543ce421fa9f7f8af6b9b41b0",
       "version_major": 2,
       "version_minor": 0
      },
      "text/html": [
       "<p>Failed to display Jupyter Widget of type <code>HBox</code>.</p>\n",
       "<p>\n",
       "  If you're reading this message in the Jupyter Notebook or JupyterLab Notebook, it may mean\n",
       "  that the widgets JavaScript is still loading. If this message persists, it\n",
       "  likely means that the widgets JavaScript library is either not installed or\n",
       "  not enabled. See the <a href=\"https://ipywidgets.readthedocs.io/en/stable/user_install.html\">Jupyter\n",
       "  Widgets Documentation</a> for setup instructions.\n",
       "</p>\n",
       "<p>\n",
       "  If you're reading this message in another frontend (for example, a static\n",
       "  rendering on GitHub or <a href=\"https://nbviewer.jupyter.org/\">NBViewer</a>),\n",
       "  it may mean that your frontend doesn't currently support widgets.\n",
       "</p>\n"
      ],
      "text/plain": [
       "HBox(children=(IntProgress(value=0, max=2373), HTML(value='')))"
      ]
     },
     "metadata": {},
     "output_type": "display_data"
    },
    {
     "name": "stdout",
     "output_type": "stream",
     "text": [
      "\n",
      "house\n"
     ]
    },
    {
     "data": {
      "application/vnd.jupyter.widget-view+json": {
       "model_id": "7170b87f4dee433580f5652c7d7487a9",
       "version_major": 2,
       "version_minor": 0
      },
      "text/html": [
       "<p>Failed to display Jupyter Widget of type <code>HBox</code>.</p>\n",
       "<p>\n",
       "  If you're reading this message in the Jupyter Notebook or JupyterLab Notebook, it may mean\n",
       "  that the widgets JavaScript is still loading. If this message persists, it\n",
       "  likely means that the widgets JavaScript library is either not installed or\n",
       "  not enabled. See the <a href=\"https://ipywidgets.readthedocs.io/en/stable/user_install.html\">Jupyter\n",
       "  Widgets Documentation</a> for setup instructions.\n",
       "</p>\n",
       "<p>\n",
       "  If you're reading this message in another frontend (for example, a static\n",
       "  rendering on GitHub or <a href=\"https://nbviewer.jupyter.org/\">NBViewer</a>),\n",
       "  it may mean that your frontend doesn't currently support widgets.\n",
       "</p>\n"
      ],
      "text/plain": [
       "HBox(children=(IntProgress(value=0, max=1750), HTML(value='')))"
      ]
     },
     "metadata": {},
     "output_type": "display_data"
    },
    {
     "name": "stdout",
     "output_type": "stream",
     "text": [
      "\n",
      "down\n"
     ]
    },
    {
     "data": {
      "application/vnd.jupyter.widget-view+json": {
       "model_id": "71574a423c354ab18f36386afa6b39a8",
       "version_major": 2,
       "version_minor": 0
      },
      "text/html": [
       "<p>Failed to display Jupyter Widget of type <code>HBox</code>.</p>\n",
       "<p>\n",
       "  If you're reading this message in the Jupyter Notebook or JupyterLab Notebook, it may mean\n",
       "  that the widgets JavaScript is still loading. If this message persists, it\n",
       "  likely means that the widgets JavaScript library is either not installed or\n",
       "  not enabled. See the <a href=\"https://ipywidgets.readthedocs.io/en/stable/user_install.html\">Jupyter\n",
       "  Widgets Documentation</a> for setup instructions.\n",
       "</p>\n",
       "<p>\n",
       "  If you're reading this message in another frontend (for example, a static\n",
       "  rendering on GitHub or <a href=\"https://nbviewer.jupyter.org/\">NBViewer</a>),\n",
       "  it may mean that your frontend doesn't currently support widgets.\n",
       "</p>\n"
      ],
      "text/plain": [
       "HBox(children=(IntProgress(value=0, max=2359), HTML(value='')))"
      ]
     },
     "metadata": {},
     "output_type": "display_data"
    },
    {
     "name": "stdout",
     "output_type": "stream",
     "text": [
      "\n",
      "six\n"
     ]
    },
    {
     "data": {
      "application/vnd.jupyter.widget-view+json": {
       "model_id": "a89db9c651264276a1eabfcf497f9fb2",
       "version_major": 2,
       "version_minor": 0
      },
      "text/html": [
       "<p>Failed to display Jupyter Widget of type <code>HBox</code>.</p>\n",
       "<p>\n",
       "  If you're reading this message in the Jupyter Notebook or JupyterLab Notebook, it may mean\n",
       "  that the widgets JavaScript is still loading. If this message persists, it\n",
       "  likely means that the widgets JavaScript library is either not installed or\n",
       "  not enabled. See the <a href=\"https://ipywidgets.readthedocs.io/en/stable/user_install.html\">Jupyter\n",
       "  Widgets Documentation</a> for setup instructions.\n",
       "</p>\n",
       "<p>\n",
       "  If you're reading this message in another frontend (for example, a static\n",
       "  rendering on GitHub or <a href=\"https://nbviewer.jupyter.org/\">NBViewer</a>),\n",
       "  it may mean that your frontend doesn't currently support widgets.\n",
       "</p>\n"
      ],
      "text/plain": [
       "HBox(children=(IntProgress(value=0, max=2369), HTML(value='')))"
      ]
     },
     "metadata": {},
     "output_type": "display_data"
    },
    {
     "name": "stdout",
     "output_type": "stream",
     "text": [
      "\n",
      "yes\n"
     ]
    },
    {
     "data": {
      "application/vnd.jupyter.widget-view+json": {
       "model_id": "ed44d454e5a741a2838456e6ab643828",
       "version_major": 2,
       "version_minor": 0
      },
      "text/html": [
       "<p>Failed to display Jupyter Widget of type <code>HBox</code>.</p>\n",
       "<p>\n",
       "  If you're reading this message in the Jupyter Notebook or JupyterLab Notebook, it may mean\n",
       "  that the widgets JavaScript is still loading. If this message persists, it\n",
       "  likely means that the widgets JavaScript library is either not installed or\n",
       "  not enabled. See the <a href=\"https://ipywidgets.readthedocs.io/en/stable/user_install.html\">Jupyter\n",
       "  Widgets Documentation</a> for setup instructions.\n",
       "</p>\n",
       "<p>\n",
       "  If you're reading this message in another frontend (for example, a static\n",
       "  rendering on GitHub or <a href=\"https://nbviewer.jupyter.org/\">NBViewer</a>),\n",
       "  it may mean that your frontend doesn't currently support widgets.\n",
       "</p>\n"
      ],
      "text/plain": [
       "HBox(children=(IntProgress(value=0, max=2377), HTML(value='')))"
      ]
     },
     "metadata": {},
     "output_type": "display_data"
    },
    {
     "name": "stdout",
     "output_type": "stream",
     "text": [
      "\n",
      "on\n"
     ]
    },
    {
     "data": {
      "application/vnd.jupyter.widget-view+json": {
       "model_id": "608bc658c4144fc0a93e95aeebbd78fc",
       "version_major": 2,
       "version_minor": 0
      },
      "text/html": [
       "<p>Failed to display Jupyter Widget of type <code>HBox</code>.</p>\n",
       "<p>\n",
       "  If you're reading this message in the Jupyter Notebook or JupyterLab Notebook, it may mean\n",
       "  that the widgets JavaScript is still loading. If this message persists, it\n",
       "  likely means that the widgets JavaScript library is either not installed or\n",
       "  not enabled. See the <a href=\"https://ipywidgets.readthedocs.io/en/stable/user_install.html\">Jupyter\n",
       "  Widgets Documentation</a> for setup instructions.\n",
       "</p>\n",
       "<p>\n",
       "  If you're reading this message in another frontend (for example, a static\n",
       "  rendering on GitHub or <a href=\"https://nbviewer.jupyter.org/\">NBViewer</a>),\n",
       "  it may mean that your frontend doesn't currently support widgets.\n",
       "</p>\n"
      ],
      "text/plain": [
       "HBox(children=(IntProgress(value=0, max=2367), HTML(value='')))"
      ]
     },
     "metadata": {},
     "output_type": "display_data"
    },
    {
     "name": "stdout",
     "output_type": "stream",
     "text": [
      "\n",
      "five\n"
     ]
    },
    {
     "data": {
      "application/vnd.jupyter.widget-view+json": {
       "model_id": "c81e034940db4f09927492e366ad9ed4",
       "version_major": 2,
       "version_minor": 0
      },
      "text/html": [
       "<p>Failed to display Jupyter Widget of type <code>HBox</code>.</p>\n",
       "<p>\n",
       "  If you're reading this message in the Jupyter Notebook or JupyterLab Notebook, it may mean\n",
       "  that the widgets JavaScript is still loading. If this message persists, it\n",
       "  likely means that the widgets JavaScript library is either not installed or\n",
       "  not enabled. See the <a href=\"https://ipywidgets.readthedocs.io/en/stable/user_install.html\">Jupyter\n",
       "  Widgets Documentation</a> for setup instructions.\n",
       "</p>\n",
       "<p>\n",
       "  If you're reading this message in another frontend (for example, a static\n",
       "  rendering on GitHub or <a href=\"https://nbviewer.jupyter.org/\">NBViewer</a>),\n",
       "  it may mean that your frontend doesn't currently support widgets.\n",
       "</p>\n"
      ],
      "text/plain": [
       "HBox(children=(IntProgress(value=0, max=2357), HTML(value='')))"
      ]
     },
     "metadata": {},
     "output_type": "display_data"
    },
    {
     "name": "stdout",
     "output_type": "stream",
     "text": [
      "\n",
      "off\n"
     ]
    },
    {
     "data": {
      "application/vnd.jupyter.widget-view+json": {
       "model_id": "46574a935f4140e99c64c88162032bd4",
       "version_major": 2,
       "version_minor": 0
      },
      "text/html": [
       "<p>Failed to display Jupyter Widget of type <code>HBox</code>.</p>\n",
       "<p>\n",
       "  If you're reading this message in the Jupyter Notebook or JupyterLab Notebook, it may mean\n",
       "  that the widgets JavaScript is still loading. If this message persists, it\n",
       "  likely means that the widgets JavaScript library is either not installed or\n",
       "  not enabled. See the <a href=\"https://ipywidgets.readthedocs.io/en/stable/user_install.html\">Jupyter\n",
       "  Widgets Documentation</a> for setup instructions.\n",
       "</p>\n",
       "<p>\n",
       "  If you're reading this message in another frontend (for example, a static\n",
       "  rendering on GitHub or <a href=\"https://nbviewer.jupyter.org/\">NBViewer</a>),\n",
       "  it may mean that your frontend doesn't currently support widgets.\n",
       "</p>\n"
      ],
      "text/plain": [
       "HBox(children=(IntProgress(value=0, max=2357), HTML(value='')))"
      ]
     },
     "metadata": {},
     "output_type": "display_data"
    },
    {
     "name": "stdout",
     "output_type": "stream",
     "text": [
      "\n",
      "four\n"
     ]
    },
    {
     "data": {
      "application/vnd.jupyter.widget-view+json": {
       "model_id": "dccc58c9177a4aef87258d83e81b4b5d",
       "version_major": 2,
       "version_minor": 0
      },
      "text/html": [
       "<p>Failed to display Jupyter Widget of type <code>HBox</code>.</p>\n",
       "<p>\n",
       "  If you're reading this message in the Jupyter Notebook or JupyterLab Notebook, it may mean\n",
       "  that the widgets JavaScript is still loading. If this message persists, it\n",
       "  likely means that the widgets JavaScript library is either not installed or\n",
       "  not enabled. See the <a href=\"https://ipywidgets.readthedocs.io/en/stable/user_install.html\">Jupyter\n",
       "  Widgets Documentation</a> for setup instructions.\n",
       "</p>\n",
       "<p>\n",
       "  If you're reading this message in another frontend (for example, a static\n",
       "  rendering on GitHub or <a href=\"https://nbviewer.jupyter.org/\">NBViewer</a>),\n",
       "  it may mean that your frontend doesn't currently support widgets.\n",
       "</p>\n"
      ],
      "text/plain": [
       "HBox(children=(IntProgress(value=0, max=2372), HTML(value='')))"
      ]
     },
     "metadata": {},
     "output_type": "display_data"
    },
    {
     "name": "stdout",
     "output_type": "stream",
     "text": [
      "\n"
     ]
    }
   ],
   "source": [
    "import tqdm\n",
    "\n",
    "for class_name in os.listdir(audio_dir):\n",
    "    print(class_name)\n",
    "    if class_name == '_background_noise_':\n",
    "        continue\n",
    "    for file_name in tqdm.tqdm_notebook(os.listdir(os.path.join(audio_dir, class_name))):\n",
    "        full_name = os.path.join(class_name, file_name)\n",
    "        full_path = os.path.join(audio_dir, full_name)\n",
    "        if full_name in val_list:\n",
    "            path_dir = os.path.join('validate', class_name)\n",
    "        elif full_name in test_list:\n",
    "            path_dir = os.path.join('test', class_name)\n",
    "        else:\n",
    "            path_dir = os.path.join('learn', class_name)            \n",
    "                \n",
    "        if not os.path.exists(path_dir):\n",
    "            os.mkdir(path_dir)\n",
    "        copyfile(full_path, os.path.join(path_dir, file_name))"
   ]
  },
  {
   "cell_type": "code",
   "execution_count": 12,
   "metadata": {},
   "outputs": [
    {
     "data": {
      "text/plain": [
       "['right',\n",
       " 'eight',\n",
       " 'cat',\n",
       " 'tree',\n",
       " 'bed',\n",
       " 'happy',\n",
       " 'go',\n",
       " 'dog',\n",
       " 'no',\n",
       " 'wow',\n",
       " 'nine',\n",
       " 'left',\n",
       " 'stop',\n",
       " 'three',\n",
       " 'sheila',\n",
       " 'one',\n",
       " 'bird',\n",
       " 'zero',\n",
       " 'seven',\n",
       " 'up',\n",
       " 'marvin',\n",
       " 'two',\n",
       " 'house',\n",
       " 'down',\n",
       " 'six',\n",
       " 'yes',\n",
       " 'on',\n",
       " 'five',\n",
       " 'off',\n",
       " 'four']"
      ]
     },
     "execution_count": 12,
     "metadata": {},
     "output_type": "execute_result"
    }
   ],
   "source": [
    "classes = os.listdir(audio_dir)\n",
    "classes.remove('_background_noise_')\n",
    "classes"
   ]
  },
  {
   "cell_type": "code",
   "execution_count": 13,
   "metadata": {},
   "outputs": [
    {
     "name": "stdout",
     "output_type": "stream",
     "text": [
      "right\n",
      "{'learn': 1852, 'validate': 256, 'test': 259}\n",
      "eight\n",
      "{'learn': 1852, 'validate': 243, 'test': 257}\n",
      "cat\n",
      "{'learn': 1399, 'validate': 168, 'test': 166}\n",
      "tree\n",
      "{'learn': 1374, 'validate': 166, 'test': 193}\n",
      "bed\n",
      "{'learn': 1340, 'validate': 197, 'test': 176}\n",
      "happy\n",
      "{'learn': 1373, 'validate': 189, 'test': 180}\n",
      "go\n",
      "{'learn': 1861, 'validate': 260, 'test': 251}\n",
      "dog\n",
      "{'learn': 1396, 'validate': 170, 'test': 180}\n",
      "no\n",
      "{'learn': 1853, 'validate': 270, 'test': 252}\n",
      "wow\n",
      "{'learn': 1414, 'validate': 166, 'test': 165}\n",
      "nine\n",
      "{'learn': 1875, 'validate': 230, 'test': 259}\n",
      "left\n",
      "{'learn': 1839, 'validate': 247, 'test': 267}\n",
      "stop\n",
      "{'learn': 1885, 'validate': 246, 'test': 249}\n",
      "three\n",
      "{'learn': 1841, 'validate': 248, 'test': 267}\n",
      "sheila\n",
      "{'learn': 1372, 'validate': 176, 'test': 186}\n",
      "one\n",
      "{'learn': 1892, 'validate': 230, 'test': 248}\n",
      "bird\n",
      "{'learn': 1411, 'validate': 162, 'test': 158}\n",
      "zero\n",
      "{'learn': 1866, 'validate': 260, 'test': 250}\n",
      "seven\n",
      "{'learn': 1875, 'validate': 263, 'test': 239}\n",
      "up\n",
      "{'learn': 1843, 'validate': 260, 'test': 272}\n",
      "marvin\n",
      "{'learn': 1424, 'validate': 160, 'test': 162}\n",
      "two\n",
      "{'learn': 1873, 'validate': 236, 'test': 264}\n",
      "house\n",
      "{'learn': 1427, 'validate': 173, 'test': 150}\n",
      "down\n",
      "{'learn': 1842, 'validate': 264, 'test': 253}\n",
      "six\n",
      "{'learn': 1863, 'validate': 262, 'test': 244}\n",
      "yes\n",
      "{'learn': 1860, 'validate': 261, 'test': 256}\n",
      "on\n",
      "{'learn': 1864, 'validate': 257, 'test': 246}\n",
      "five\n",
      "{'learn': 1844, 'validate': 242, 'test': 271}\n",
      "off\n",
      "{'learn': 1839, 'validate': 256, 'test': 262}\n",
      "four\n",
      "{'learn': 1839, 'validate': 280, 'test': 253}\n"
     ]
    }
   ],
   "source": [
    "dirs = ['learn', 'validate', 'test']\n",
    "for class_ in classes:\n",
    "    print(class_)\n",
    "    cnt_obs = {}\n",
    "    for dir_ in dirs:\n",
    "        cnt_obs[dir_] = len(os.listdir(os.path.join(dir_, class_)))\n",
    "    print(cnt_obs)"
   ]
  },
  {
   "cell_type": "markdown",
   "metadata": {},
   "source": [
    "# Load data"
   ]
  },
  {
   "cell_type": "code",
   "execution_count": 16,
   "metadata": {},
   "outputs": [],
   "source": [
    "import sys\n",
    "import torch\n",
    "sys.path.append('GCommandsPytorch')\n",
    "from gcommand_loader import GCommandLoader"
   ]
  },
  {
   "cell_type": "code",
   "execution_count": 17,
   "metadata": {},
   "outputs": [],
   "source": [
    "train_dataset = GCommandLoader('learn')\n",
    "train_loader = torch.utils.data.DataLoader(train_dataset, batch_size=32, shuffle=True, num_workers=20, sampler=None)\n",
    "\n",
    "valid_dataset = GCommandLoader('validate')\n",
    "valid_loader = torch.utils.data.DataLoader(valid_dataset, batch_size=32, shuffle=None, num_workers=20, sampler=None)\n",
    "\n",
    "test_dataset = GCommandLoader('test')\n",
    "test_loader = torch.utils.data.DataLoader(test_dataset, batch_size=32, shuffle=None, num_workers=20, sampler=None)"
   ]
  },
  {
   "cell_type": "markdown",
   "metadata": {},
   "source": [
    "# Prepare model"
   ]
  },
  {
   "cell_type": "code",
   "execution_count": 21,
   "metadata": {},
   "outputs": [],
   "source": [
    "from model import LeNet\n",
    "import torch.optim as optim"
   ]
  },
  {
   "cell_type": "code",
   "execution_count": 22,
   "metadata": {},
   "outputs": [],
   "source": [
    "model = LeNet()\n",
    "optimizer = optim.SGD(model.parameters(), lr=0.001, momentum=0.9)"
   ]
  },
  {
   "cell_type": "code",
   "execution_count": 32,
   "metadata": {},
   "outputs": [],
   "source": [
    "epochs=3\n",
    "patience = 5"
   ]
  },
  {
   "cell_type": "markdown",
   "metadata": {},
   "source": [
    "# Fit"
   ]
  },
  {
   "cell_type": "code",
   "execution_count": 33,
   "metadata": {},
   "outputs": [],
   "source": [
    "from train import train, test"
   ]
  },
  {
   "cell_type": "code",
   "execution_count": 35,
   "metadata": {},
   "outputs": [
    {
     "name": "stderr",
     "output_type": "stream",
     "text": [
      "GCommandsPytorch/model.py:21: UserWarning: Implicit dimension choice for log_softmax has been deprecated. Change the call to include dim=X as an argument.\n",
      "  return F.log_softmax(x)\n",
      "GCommandsPytorch/train.py:18: UserWarning: invalid index of a 0-dim tensor. This will be an error in PyTorch 0.5. Use tensor.item() to convert a 0-dim tensor to a Python number\n",
      "  global_epoch_loss += loss.data[0]\n",
      "GCommandsPytorch/train.py:22: UserWarning: invalid index of a 0-dim tensor. This will be an error in PyTorch 0.5. Use tensor.item() to convert a 0-dim tensor to a Python number\n",
      "  epoch, batch_idx * len(data), len(loader.dataset), 100. * batch_idx / len(loader), loss.data[0]))\n"
     ]
    },
    {
     "name": "stdout",
     "output_type": "stream",
     "text": [
      "Train Epoch: 1 [0/51088 (0%)]\tLoss: 1.263894\n",
      "Train Epoch: 1 [320/51088 (1%)]\tLoss: 1.373086\n",
      "Train Epoch: 1 [640/51088 (1%)]\tLoss: 1.366616\n",
      "Train Epoch: 1 [960/51088 (2%)]\tLoss: 1.384441\n",
      "Train Epoch: 1 [1280/51088 (3%)]\tLoss: 0.942278\n",
      "Train Epoch: 1 [1600/51088 (3%)]\tLoss: 0.864226\n",
      "Train Epoch: 1 [1920/51088 (4%)]\tLoss: 1.100574\n",
      "Train Epoch: 1 [2240/51088 (4%)]\tLoss: 1.003671\n",
      "Train Epoch: 1 [2560/51088 (5%)]\tLoss: 1.255770\n",
      "Train Epoch: 1 [2880/51088 (6%)]\tLoss: 0.889160\n",
      "Train Epoch: 1 [3200/51088 (6%)]\tLoss: 1.721479\n",
      "Train Epoch: 1 [3520/51088 (7%)]\tLoss: 1.593870\n",
      "Train Epoch: 1 [3840/51088 (8%)]\tLoss: 0.991051\n",
      "Train Epoch: 1 [4160/51088 (8%)]\tLoss: 1.865597\n",
      "Train Epoch: 1 [4480/51088 (9%)]\tLoss: 1.624288\n",
      "Train Epoch: 1 [4800/51088 (9%)]\tLoss: 1.198707\n",
      "Train Epoch: 1 [5120/51088 (10%)]\tLoss: 1.275442\n",
      "Train Epoch: 1 [5440/51088 (11%)]\tLoss: 1.114012\n",
      "Train Epoch: 1 [5760/51088 (11%)]\tLoss: 1.577619\n",
      "Train Epoch: 1 [6080/51088 (12%)]\tLoss: 1.000152\n",
      "Train Epoch: 1 [6400/51088 (13%)]\tLoss: 1.460870\n",
      "Train Epoch: 1 [6720/51088 (13%)]\tLoss: 1.039701\n",
      "Train Epoch: 1 [7040/51088 (14%)]\tLoss: 0.951740\n",
      "Train Epoch: 1 [7360/51088 (14%)]\tLoss: 0.830618\n",
      "Train Epoch: 1 [7680/51088 (15%)]\tLoss: 1.050950\n",
      "Train Epoch: 1 [8000/51088 (16%)]\tLoss: 1.491915\n",
      "Train Epoch: 1 [8320/51088 (16%)]\tLoss: 1.086477\n",
      "Train Epoch: 1 [8640/51088 (17%)]\tLoss: 1.384447\n",
      "Train Epoch: 1 [8960/51088 (18%)]\tLoss: 1.431976\n",
      "Train Epoch: 1 [9280/51088 (18%)]\tLoss: 1.177008\n",
      "Train Epoch: 1 [9600/51088 (19%)]\tLoss: 1.104781\n",
      "Train Epoch: 1 [9920/51088 (19%)]\tLoss: 1.619936\n",
      "Train Epoch: 1 [10240/51088 (20%)]\tLoss: 0.927556\n",
      "Train Epoch: 1 [10560/51088 (21%)]\tLoss: 1.030332\n",
      "Train Epoch: 1 [10880/51088 (21%)]\tLoss: 1.006276\n",
      "Train Epoch: 1 [11200/51088 (22%)]\tLoss: 0.932103\n",
      "Train Epoch: 1 [11520/51088 (23%)]\tLoss: 0.712185\n",
      "Train Epoch: 1 [11840/51088 (23%)]\tLoss: 1.172031\n",
      "Train Epoch: 1 [12160/51088 (24%)]\tLoss: 0.877295\n",
      "Train Epoch: 1 [12480/51088 (24%)]\tLoss: 1.190735\n",
      "Train Epoch: 1 [12800/51088 (25%)]\tLoss: 1.222431\n",
      "Train Epoch: 1 [13120/51088 (26%)]\tLoss: 1.235064\n",
      "Train Epoch: 1 [13440/51088 (26%)]\tLoss: 0.973812\n",
      "Train Epoch: 1 [13760/51088 (27%)]\tLoss: 0.933396\n",
      "Train Epoch: 1 [14080/51088 (28%)]\tLoss: 1.207166\n",
      "Train Epoch: 1 [14400/51088 (28%)]\tLoss: 1.520764\n",
      "Train Epoch: 1 [14720/51088 (29%)]\tLoss: 1.116592\n",
      "Train Epoch: 1 [15040/51088 (29%)]\tLoss: 1.406324\n",
      "Train Epoch: 1 [15360/51088 (30%)]\tLoss: 1.330256\n",
      "Train Epoch: 1 [15680/51088 (31%)]\tLoss: 0.960672\n",
      "Train Epoch: 1 [16000/51088 (31%)]\tLoss: 1.462242\n",
      "Train Epoch: 1 [16320/51088 (32%)]\tLoss: 1.149096\n",
      "Train Epoch: 1 [16640/51088 (33%)]\tLoss: 1.164000\n",
      "Train Epoch: 1 [16960/51088 (33%)]\tLoss: 1.486924\n",
      "Train Epoch: 1 [17280/51088 (34%)]\tLoss: 0.907609\n",
      "Train Epoch: 1 [17600/51088 (34%)]\tLoss: 0.859983\n",
      "Train Epoch: 1 [17920/51088 (35%)]\tLoss: 1.144111\n",
      "Train Epoch: 1 [18240/51088 (36%)]\tLoss: 0.837251\n",
      "Train Epoch: 1 [18560/51088 (36%)]\tLoss: 0.863413\n",
      "Train Epoch: 1 [18880/51088 (37%)]\tLoss: 1.068449\n",
      "Train Epoch: 1 [19200/51088 (38%)]\tLoss: 1.028895\n",
      "Train Epoch: 1 [19520/51088 (38%)]\tLoss: 1.061389\n",
      "Train Epoch: 1 [19840/51088 (39%)]\tLoss: 1.125483\n",
      "Train Epoch: 1 [20160/51088 (39%)]\tLoss: 1.100352\n",
      "Train Epoch: 1 [20480/51088 (40%)]\tLoss: 1.134016\n",
      "Train Epoch: 1 [20800/51088 (41%)]\tLoss: 1.202053\n",
      "Train Epoch: 1 [21120/51088 (41%)]\tLoss: 0.899553\n",
      "Train Epoch: 1 [21440/51088 (42%)]\tLoss: 1.428006\n",
      "Train Epoch: 1 [21760/51088 (43%)]\tLoss: 1.391605\n",
      "Train Epoch: 1 [22080/51088 (43%)]\tLoss: 1.361335\n",
      "Train Epoch: 1 [22400/51088 (44%)]\tLoss: 1.011282\n",
      "Train Epoch: 1 [22720/51088 (44%)]\tLoss: 1.189622\n",
      "Train Epoch: 1 [23040/51088 (45%)]\tLoss: 1.193699\n",
      "Train Epoch: 1 [23360/51088 (46%)]\tLoss: 1.032730\n",
      "Train Epoch: 1 [23680/51088 (46%)]\tLoss: 0.920629\n",
      "Train Epoch: 1 [24000/51088 (47%)]\tLoss: 1.358063\n",
      "Train Epoch: 1 [24320/51088 (48%)]\tLoss: 0.789343\n",
      "Train Epoch: 1 [24640/51088 (48%)]\tLoss: 0.918128\n",
      "Train Epoch: 1 [24960/51088 (49%)]\tLoss: 1.278700\n",
      "Train Epoch: 1 [25280/51088 (49%)]\tLoss: 1.357353\n",
      "Train Epoch: 1 [25600/51088 (50%)]\tLoss: 0.950273\n",
      "Train Epoch: 1 [25920/51088 (51%)]\tLoss: 1.316552\n",
      "Train Epoch: 1 [26240/51088 (51%)]\tLoss: 0.830044\n",
      "Train Epoch: 1 [26560/51088 (52%)]\tLoss: 1.042849\n",
      "Train Epoch: 1 [26880/51088 (53%)]\tLoss: 0.816879\n",
      "Train Epoch: 1 [27200/51088 (53%)]\tLoss: 0.889334\n",
      "Train Epoch: 1 [27520/51088 (54%)]\tLoss: 1.055632\n",
      "Train Epoch: 1 [27840/51088 (54%)]\tLoss: 1.166936\n",
      "Train Epoch: 1 [28160/51088 (55%)]\tLoss: 0.860730\n",
      "Train Epoch: 1 [28480/51088 (56%)]\tLoss: 0.902535\n",
      "Train Epoch: 1 [28800/51088 (56%)]\tLoss: 1.535226\n",
      "Train Epoch: 1 [29120/51088 (57%)]\tLoss: 1.137043\n",
      "Train Epoch: 1 [29440/51088 (58%)]\tLoss: 0.989378\n",
      "Train Epoch: 1 [29760/51088 (58%)]\tLoss: 0.908304\n",
      "Train Epoch: 1 [30080/51088 (59%)]\tLoss: 0.974783\n",
      "Train Epoch: 1 [30400/51088 (59%)]\tLoss: 1.267995\n",
      "Train Epoch: 1 [30720/51088 (60%)]\tLoss: 0.807515\n",
      "Train Epoch: 1 [31040/51088 (61%)]\tLoss: 1.653964\n",
      "Train Epoch: 1 [31360/51088 (61%)]\tLoss: 0.933799\n",
      "Train Epoch: 1 [31680/51088 (62%)]\tLoss: 1.305964\n",
      "Train Epoch: 1 [32000/51088 (63%)]\tLoss: 1.117115\n",
      "Train Epoch: 1 [32320/51088 (63%)]\tLoss: 1.218688\n",
      "Train Epoch: 1 [32640/51088 (64%)]\tLoss: 0.843932\n",
      "Train Epoch: 1 [32960/51088 (64%)]\tLoss: 1.029976\n",
      "Train Epoch: 1 [33280/51088 (65%)]\tLoss: 1.129720\n",
      "Train Epoch: 1 [33600/51088 (66%)]\tLoss: 1.422726\n",
      "Train Epoch: 1 [33920/51088 (66%)]\tLoss: 1.034277\n",
      "Train Epoch: 1 [34240/51088 (67%)]\tLoss: 0.813256\n",
      "Train Epoch: 1 [34560/51088 (68%)]\tLoss: 1.175045\n",
      "Train Epoch: 1 [34880/51088 (68%)]\tLoss: 1.102255\n",
      "Train Epoch: 1 [35200/51088 (69%)]\tLoss: 0.918520\n",
      "Train Epoch: 1 [35520/51088 (70%)]\tLoss: 1.051713\n",
      "Train Epoch: 1 [35840/51088 (70%)]\tLoss: 1.652742\n",
      "Train Epoch: 1 [36160/51088 (71%)]\tLoss: 1.495735\n",
      "Train Epoch: 1 [36480/51088 (71%)]\tLoss: 0.782346\n",
      "Train Epoch: 1 [36800/51088 (72%)]\tLoss: 0.760733\n",
      "Train Epoch: 1 [37120/51088 (73%)]\tLoss: 0.996021\n",
      "Train Epoch: 1 [37440/51088 (73%)]\tLoss: 0.831867\n",
      "Train Epoch: 1 [37760/51088 (74%)]\tLoss: 1.238657\n",
      "Train Epoch: 1 [38080/51088 (75%)]\tLoss: 1.091758\n",
      "Train Epoch: 1 [38400/51088 (75%)]\tLoss: 1.083733\n",
      "Train Epoch: 1 [38720/51088 (76%)]\tLoss: 0.853354\n",
      "Train Epoch: 1 [39040/51088 (76%)]\tLoss: 1.430288\n",
      "Train Epoch: 1 [39360/51088 (77%)]\tLoss: 1.011310\n",
      "Train Epoch: 1 [39680/51088 (78%)]\tLoss: 0.968432\n",
      "Train Epoch: 1 [40000/51088 (78%)]\tLoss: 0.883445\n",
      "Train Epoch: 1 [40320/51088 (79%)]\tLoss: 1.021258\n",
      "Train Epoch: 1 [40640/51088 (80%)]\tLoss: 1.059110\n",
      "Train Epoch: 1 [40960/51088 (80%)]\tLoss: 0.829942\n",
      "Train Epoch: 1 [41280/51088 (81%)]\tLoss: 1.359818\n",
      "Train Epoch: 1 [41600/51088 (81%)]\tLoss: 1.035669\n",
      "Train Epoch: 1 [41920/51088 (82%)]\tLoss: 1.148027\n",
      "Train Epoch: 1 [42240/51088 (83%)]\tLoss: 0.992661\n",
      "Train Epoch: 1 [42560/51088 (83%)]\tLoss: 1.636968\n",
      "Train Epoch: 1 [42880/51088 (84%)]\tLoss: 1.399935\n",
      "Train Epoch: 1 [43200/51088 (85%)]\tLoss: 1.048790\n",
      "Train Epoch: 1 [43520/51088 (85%)]\tLoss: 0.842901\n",
      "Train Epoch: 1 [43840/51088 (86%)]\tLoss: 1.160832\n",
      "Train Epoch: 1 [44160/51088 (86%)]\tLoss: 0.975786\n",
      "Train Epoch: 1 [44480/51088 (87%)]\tLoss: 0.714776\n",
      "Train Epoch: 1 [44800/51088 (88%)]\tLoss: 0.934846\n",
      "Train Epoch: 1 [45120/51088 (88%)]\tLoss: 0.911497\n",
      "Train Epoch: 1 [45440/51088 (89%)]\tLoss: 0.898612\n",
      "Train Epoch: 1 [45760/51088 (90%)]\tLoss: 0.661846\n",
      "Train Epoch: 1 [46080/51088 (90%)]\tLoss: 0.817314\n",
      "Train Epoch: 1 [46400/51088 (91%)]\tLoss: 1.070732\n",
      "Train Epoch: 1 [46720/51088 (91%)]\tLoss: 0.730766\n",
      "Train Epoch: 1 [47040/51088 (92%)]\tLoss: 1.206789\n",
      "Train Epoch: 1 [47360/51088 (93%)]\tLoss: 1.324608\n",
      "Train Epoch: 1 [47680/51088 (93%)]\tLoss: 0.983376\n",
      "Train Epoch: 1 [48000/51088 (94%)]\tLoss: 1.127719\n",
      "Train Epoch: 1 [48320/51088 (95%)]\tLoss: 0.731553\n",
      "Train Epoch: 1 [48640/51088 (95%)]\tLoss: 0.572495\n",
      "Train Epoch: 1 [48960/51088 (96%)]\tLoss: 0.995303\n",
      "Train Epoch: 1 [49280/51088 (96%)]\tLoss: 0.831138\n",
      "Train Epoch: 1 [49600/51088 (97%)]\tLoss: 1.184177\n",
      "Train Epoch: 1 [49920/51088 (98%)]\tLoss: 1.206455\n",
      "Train Epoch: 1 [50240/51088 (98%)]\tLoss: 0.923863\n",
      "Train Epoch: 1 [50560/51088 (99%)]\tLoss: 1.440125\n",
      "Train Epoch: 1 [50880/51088 (100%)]\tLoss: 0.962588\n"
     ]
    },
    {
     "name": "stderr",
     "output_type": "stream",
     "text": [
      "GCommandsPytorch/train.py:33: UserWarning: volatile was removed and now has no effect. Use `with torch.no_grad():` instead.\n",
      "  data, target = Variable(data, volatile=True), Variable(target)\n",
      "GCommandsPytorch/train.py:35: UserWarning: invalid index of a 0-dim tensor. This will be an error in PyTorch 0.5. Use tensor.item() to convert a 0-dim tensor to a Python number\n",
      "  test_loss += F.nll_loss(output, target, size_average=False).data[0]  # sum up batch loss\n"
     ]
    },
    {
     "name": "stdout",
     "output_type": "stream",
     "text": [
      "\n",
      "Test set: Average loss: 0.7086, Accuracy: 5472/6798 (80%)\n",
      "\n",
      "Saving model...\n",
      "Train Epoch: 2 [0/51088 (0%)]\tLoss: 0.923222\n",
      "Train Epoch: 2 [320/51088 (1%)]\tLoss: 1.019459\n",
      "Train Epoch: 2 [640/51088 (1%)]\tLoss: 0.686996\n",
      "Train Epoch: 2 [960/51088 (2%)]\tLoss: 0.999747\n",
      "Train Epoch: 2 [1280/51088 (3%)]\tLoss: 0.680796\n",
      "Train Epoch: 2 [1600/51088 (3%)]\tLoss: 0.577860\n",
      "Train Epoch: 2 [1920/51088 (4%)]\tLoss: 0.983853\n",
      "Train Epoch: 2 [2240/51088 (4%)]\tLoss: 0.890858\n",
      "Train Epoch: 2 [2560/51088 (5%)]\tLoss: 0.936865\n",
      "Train Epoch: 2 [2880/51088 (6%)]\tLoss: 0.888459\n",
      "Train Epoch: 2 [3200/51088 (6%)]\tLoss: 0.767596\n",
      "Train Epoch: 2 [3520/51088 (7%)]\tLoss: 0.698918\n",
      "Train Epoch: 2 [3840/51088 (8%)]\tLoss: 0.819907\n",
      "Train Epoch: 2 [4160/51088 (8%)]\tLoss: 0.968252\n",
      "Train Epoch: 2 [4480/51088 (9%)]\tLoss: 0.912378\n",
      "Train Epoch: 2 [4800/51088 (9%)]\tLoss: 1.209628\n",
      "Train Epoch: 2 [5120/51088 (10%)]\tLoss: 0.920490\n",
      "Train Epoch: 2 [5440/51088 (11%)]\tLoss: 0.436147\n",
      "Train Epoch: 2 [5760/51088 (11%)]\tLoss: 0.752748\n",
      "Train Epoch: 2 [6080/51088 (12%)]\tLoss: 1.093243\n",
      "Train Epoch: 2 [6400/51088 (13%)]\tLoss: 0.906277\n",
      "Train Epoch: 2 [6720/51088 (13%)]\tLoss: 0.649081\n",
      "Train Epoch: 2 [7040/51088 (14%)]\tLoss: 1.114929\n",
      "Train Epoch: 2 [7360/51088 (14%)]\tLoss: 0.700682\n",
      "Train Epoch: 2 [7680/51088 (15%)]\tLoss: 1.065834\n",
      "Train Epoch: 2 [8000/51088 (16%)]\tLoss: 0.571193\n",
      "Train Epoch: 2 [8320/51088 (16%)]\tLoss: 1.292801\n",
      "Train Epoch: 2 [8640/51088 (17%)]\tLoss: 0.878109\n",
      "Train Epoch: 2 [8960/51088 (18%)]\tLoss: 1.106306\n",
      "Train Epoch: 2 [9280/51088 (18%)]\tLoss: 1.158320\n",
      "Train Epoch: 2 [9600/51088 (19%)]\tLoss: 0.782607\n",
      "Train Epoch: 2 [9920/51088 (19%)]\tLoss: 1.083121\n",
      "Train Epoch: 2 [10240/51088 (20%)]\tLoss: 0.540808\n",
      "Train Epoch: 2 [10560/51088 (21%)]\tLoss: 0.806988\n",
      "Train Epoch: 2 [10880/51088 (21%)]\tLoss: 1.174572\n",
      "Train Epoch: 2 [11200/51088 (22%)]\tLoss: 0.929156\n",
      "Train Epoch: 2 [11520/51088 (23%)]\tLoss: 0.778156\n",
      "Train Epoch: 2 [11840/51088 (23%)]\tLoss: 1.095083\n",
      "Train Epoch: 2 [12160/51088 (24%)]\tLoss: 0.939823\n",
      "Train Epoch: 2 [12480/51088 (24%)]\tLoss: 0.953540\n",
      "Train Epoch: 2 [12800/51088 (25%)]\tLoss: 0.725779\n",
      "Train Epoch: 2 [13120/51088 (26%)]\tLoss: 1.112149\n",
      "Train Epoch: 2 [13440/51088 (26%)]\tLoss: 0.847040\n",
      "Train Epoch: 2 [13760/51088 (27%)]\tLoss: 0.786460\n",
      "Train Epoch: 2 [14080/51088 (28%)]\tLoss: 1.615379\n",
      "Train Epoch: 2 [14400/51088 (28%)]\tLoss: 0.932907\n",
      "Train Epoch: 2 [14720/51088 (29%)]\tLoss: 0.617779\n",
      "Train Epoch: 2 [15040/51088 (29%)]\tLoss: 0.918514\n",
      "Train Epoch: 2 [15360/51088 (30%)]\tLoss: 0.764620\n",
      "Train Epoch: 2 [15680/51088 (31%)]\tLoss: 0.595513\n",
      "Train Epoch: 2 [16000/51088 (31%)]\tLoss: 1.219735\n",
      "Train Epoch: 2 [16320/51088 (32%)]\tLoss: 0.846264\n",
      "Train Epoch: 2 [16640/51088 (33%)]\tLoss: 0.680756\n",
      "Train Epoch: 2 [16960/51088 (33%)]\tLoss: 1.083225\n",
      "Train Epoch: 2 [17280/51088 (34%)]\tLoss: 1.049108\n",
      "Train Epoch: 2 [17600/51088 (34%)]\tLoss: 1.143846\n",
      "Train Epoch: 2 [17920/51088 (35%)]\tLoss: 1.113701\n",
      "Train Epoch: 2 [18240/51088 (36%)]\tLoss: 0.915207\n",
      "Train Epoch: 2 [18560/51088 (36%)]\tLoss: 0.527955\n",
      "Train Epoch: 2 [18880/51088 (37%)]\tLoss: 0.609976\n",
      "Train Epoch: 2 [19200/51088 (38%)]\tLoss: 0.822633\n",
      "Train Epoch: 2 [19520/51088 (38%)]\tLoss: 1.300691\n",
      "Train Epoch: 2 [19840/51088 (39%)]\tLoss: 0.954015\n",
      "Train Epoch: 2 [20160/51088 (39%)]\tLoss: 0.718616\n",
      "Train Epoch: 2 [20480/51088 (40%)]\tLoss: 1.144702\n",
      "Train Epoch: 2 [20800/51088 (41%)]\tLoss: 1.269343\n",
      "Train Epoch: 2 [21120/51088 (41%)]\tLoss: 0.488547\n",
      "Train Epoch: 2 [21440/51088 (42%)]\tLoss: 0.738728\n",
      "Train Epoch: 2 [21760/51088 (43%)]\tLoss: 0.996592\n",
      "Train Epoch: 2 [22080/51088 (43%)]\tLoss: 1.155335\n",
      "Train Epoch: 2 [22400/51088 (44%)]\tLoss: 0.641906\n",
      "Train Epoch: 2 [22720/51088 (44%)]\tLoss: 1.453152\n",
      "Train Epoch: 2 [23040/51088 (45%)]\tLoss: 1.176023\n",
      "Train Epoch: 2 [23360/51088 (46%)]\tLoss: 1.290015\n",
      "Train Epoch: 2 [23680/51088 (46%)]\tLoss: 1.136020\n",
      "Train Epoch: 2 [24000/51088 (47%)]\tLoss: 0.773488\n",
      "Train Epoch: 2 [24320/51088 (48%)]\tLoss: 0.474544\n",
      "Train Epoch: 2 [24640/51088 (48%)]\tLoss: 0.908291\n",
      "Train Epoch: 2 [24960/51088 (49%)]\tLoss: 0.749676\n",
      "Train Epoch: 2 [25280/51088 (49%)]\tLoss: 1.523031\n",
      "Train Epoch: 2 [25600/51088 (50%)]\tLoss: 1.028793\n",
      "Train Epoch: 2 [25920/51088 (51%)]\tLoss: 0.794738\n",
      "Train Epoch: 2 [26240/51088 (51%)]\tLoss: 1.122090\n",
      "Train Epoch: 2 [26560/51088 (52%)]\tLoss: 1.045898\n",
      "Train Epoch: 2 [26880/51088 (53%)]\tLoss: 0.961032\n",
      "Train Epoch: 2 [27200/51088 (53%)]\tLoss: 0.617509\n",
      "Train Epoch: 2 [27520/51088 (54%)]\tLoss: 0.691522\n",
      "Train Epoch: 2 [27840/51088 (54%)]\tLoss: 0.648969\n",
      "Train Epoch: 2 [28160/51088 (55%)]\tLoss: 0.745782\n",
      "Train Epoch: 2 [28480/51088 (56%)]\tLoss: 0.804244\n",
      "Train Epoch: 2 [28800/51088 (56%)]\tLoss: 1.007694\n",
      "Train Epoch: 2 [29120/51088 (57%)]\tLoss: 0.924872\n",
      "Train Epoch: 2 [29440/51088 (58%)]\tLoss: 0.792752\n",
      "Train Epoch: 2 [29760/51088 (58%)]\tLoss: 1.040681\n",
      "Train Epoch: 2 [30080/51088 (59%)]\tLoss: 0.844568\n",
      "Train Epoch: 2 [30400/51088 (59%)]\tLoss: 0.916075\n",
      "Train Epoch: 2 [30720/51088 (60%)]\tLoss: 0.942902\n",
      "Train Epoch: 2 [31040/51088 (61%)]\tLoss: 0.939995\n",
      "Train Epoch: 2 [31360/51088 (61%)]\tLoss: 0.521231\n",
      "Train Epoch: 2 [31680/51088 (62%)]\tLoss: 1.647565\n",
      "Train Epoch: 2 [32000/51088 (63%)]\tLoss: 0.748110\n",
      "Train Epoch: 2 [32320/51088 (63%)]\tLoss: 0.496994\n",
      "Train Epoch: 2 [32640/51088 (64%)]\tLoss: 0.836449\n",
      "Train Epoch: 2 [32960/51088 (64%)]\tLoss: 0.853628\n",
      "Train Epoch: 2 [33280/51088 (65%)]\tLoss: 0.569444\n",
      "Train Epoch: 2 [33600/51088 (66%)]\tLoss: 0.753870\n",
      "Train Epoch: 2 [33920/51088 (66%)]\tLoss: 1.224279\n",
      "Train Epoch: 2 [34240/51088 (67%)]\tLoss: 0.812036\n",
      "Train Epoch: 2 [34560/51088 (68%)]\tLoss: 0.806708\n",
      "Train Epoch: 2 [34880/51088 (68%)]\tLoss: 0.709839\n",
      "Train Epoch: 2 [35200/51088 (69%)]\tLoss: 1.146649\n",
      "Train Epoch: 2 [35520/51088 (70%)]\tLoss: 0.819826\n",
      "Train Epoch: 2 [35840/51088 (70%)]\tLoss: 0.677967\n",
      "Train Epoch: 2 [36160/51088 (71%)]\tLoss: 0.748461\n",
      "Train Epoch: 2 [36480/51088 (71%)]\tLoss: 0.464543\n",
      "Train Epoch: 2 [36800/51088 (72%)]\tLoss: 0.936740\n",
      "Train Epoch: 2 [37120/51088 (73%)]\tLoss: 0.781961\n",
      "Train Epoch: 2 [37440/51088 (73%)]\tLoss: 0.983513\n",
      "Train Epoch: 2 [37760/51088 (74%)]\tLoss: 0.553278\n",
      "Train Epoch: 2 [38080/51088 (75%)]\tLoss: 0.614448\n",
      "Train Epoch: 2 [38400/51088 (75%)]\tLoss: 0.772390\n",
      "Train Epoch: 2 [38720/51088 (76%)]\tLoss: 0.939570\n",
      "Train Epoch: 2 [39040/51088 (76%)]\tLoss: 0.968232\n",
      "Train Epoch: 2 [39360/51088 (77%)]\tLoss: 0.564418\n",
      "Train Epoch: 2 [39680/51088 (78%)]\tLoss: 0.679375\n",
      "Train Epoch: 2 [40000/51088 (78%)]\tLoss: 0.840774\n",
      "Train Epoch: 2 [40320/51088 (79%)]\tLoss: 1.038181\n",
      "Train Epoch: 2 [40640/51088 (80%)]\tLoss: 1.089281\n",
      "Train Epoch: 2 [40960/51088 (80%)]\tLoss: 1.064688\n",
      "Train Epoch: 2 [41280/51088 (81%)]\tLoss: 0.919283\n",
      "Train Epoch: 2 [41600/51088 (81%)]\tLoss: 0.632736\n",
      "Train Epoch: 2 [41920/51088 (82%)]\tLoss: 0.936034\n",
      "Train Epoch: 2 [42240/51088 (83%)]\tLoss: 0.790888\n",
      "Train Epoch: 2 [42560/51088 (83%)]\tLoss: 1.030646\n",
      "Train Epoch: 2 [42880/51088 (84%)]\tLoss: 1.014352\n",
      "Train Epoch: 2 [43200/51088 (85%)]\tLoss: 0.654208\n",
      "Train Epoch: 2 [43520/51088 (85%)]\tLoss: 1.077865\n",
      "Train Epoch: 2 [43840/51088 (86%)]\tLoss: 1.306081\n",
      "Train Epoch: 2 [44160/51088 (86%)]\tLoss: 0.776394\n",
      "Train Epoch: 2 [44480/51088 (87%)]\tLoss: 0.663204\n",
      "Train Epoch: 2 [44800/51088 (88%)]\tLoss: 0.951875\n",
      "Train Epoch: 2 [45120/51088 (88%)]\tLoss: 0.907471\n",
      "Train Epoch: 2 [45440/51088 (89%)]\tLoss: 0.887412\n",
      "Train Epoch: 2 [45760/51088 (90%)]\tLoss: 1.458797\n",
      "Train Epoch: 2 [46080/51088 (90%)]\tLoss: 0.825087\n",
      "Train Epoch: 2 [46400/51088 (91%)]\tLoss: 0.938210\n",
      "Train Epoch: 2 [46720/51088 (91%)]\tLoss: 1.202164\n",
      "Train Epoch: 2 [47040/51088 (92%)]\tLoss: 0.639143\n",
      "Train Epoch: 2 [47360/51088 (93%)]\tLoss: 0.520902\n",
      "Train Epoch: 2 [47680/51088 (93%)]\tLoss: 0.789694\n",
      "Train Epoch: 2 [48000/51088 (94%)]\tLoss: 0.777735\n",
      "Train Epoch: 2 [48320/51088 (95%)]\tLoss: 1.160799\n",
      "Train Epoch: 2 [48640/51088 (95%)]\tLoss: 0.912810\n",
      "Train Epoch: 2 [48960/51088 (96%)]\tLoss: 0.702503\n",
      "Train Epoch: 2 [49280/51088 (96%)]\tLoss: 0.618039\n",
      "Train Epoch: 2 [49600/51088 (97%)]\tLoss: 0.961602\n",
      "Train Epoch: 2 [49920/51088 (98%)]\tLoss: 0.751349\n",
      "Train Epoch: 2 [50240/51088 (98%)]\tLoss: 1.037387\n",
      "Train Epoch: 2 [50560/51088 (99%)]\tLoss: 0.468099\n",
      "Train Epoch: 2 [50880/51088 (100%)]\tLoss: 0.929189\n",
      "\n",
      "Test set: Average loss: 0.5643, Accuracy: 5695/6798 (83%)\n",
      "\n",
      "Saving model...\n",
      "Train Epoch: 3 [0/51088 (0%)]\tLoss: 0.783264\n",
      "Train Epoch: 3 [320/51088 (1%)]\tLoss: 0.797803\n",
      "Train Epoch: 3 [640/51088 (1%)]\tLoss: 0.690213\n"
     ]
    },
    {
     "name": "stdout",
     "output_type": "stream",
     "text": [
      "Train Epoch: 3 [960/51088 (2%)]\tLoss: 1.161259\n",
      "Train Epoch: 3 [1280/51088 (3%)]\tLoss: 1.071262\n",
      "Train Epoch: 3 [1600/51088 (3%)]\tLoss: 0.677326\n",
      "Train Epoch: 3 [1920/51088 (4%)]\tLoss: 0.589286\n",
      "Train Epoch: 3 [2240/51088 (4%)]\tLoss: 0.502245\n",
      "Train Epoch: 3 [2560/51088 (5%)]\tLoss: 0.688644\n",
      "Train Epoch: 3 [2880/51088 (6%)]\tLoss: 0.621979\n",
      "Train Epoch: 3 [3200/51088 (6%)]\tLoss: 1.070438\n",
      "Train Epoch: 3 [3520/51088 (7%)]\tLoss: 0.628054\n",
      "Train Epoch: 3 [3840/51088 (8%)]\tLoss: 0.605062\n",
      "Train Epoch: 3 [4160/51088 (8%)]\tLoss: 0.968701\n",
      "Train Epoch: 3 [4480/51088 (9%)]\tLoss: 0.719867\n",
      "Train Epoch: 3 [4800/51088 (9%)]\tLoss: 0.616897\n",
      "Train Epoch: 3 [5120/51088 (10%)]\tLoss: 0.441708\n",
      "Train Epoch: 3 [5440/51088 (11%)]\tLoss: 0.736012\n",
      "Train Epoch: 3 [5760/51088 (11%)]\tLoss: 0.659566\n",
      "Train Epoch: 3 [6080/51088 (12%)]\tLoss: 0.613370\n",
      "Train Epoch: 3 [6400/51088 (13%)]\tLoss: 0.730850\n",
      "Train Epoch: 3 [6720/51088 (13%)]\tLoss: 0.929652\n",
      "Train Epoch: 3 [7040/51088 (14%)]\tLoss: 0.419654\n",
      "Train Epoch: 3 [7360/51088 (14%)]\tLoss: 0.785673\n",
      "Train Epoch: 3 [7680/51088 (15%)]\tLoss: 0.919837\n",
      "Train Epoch: 3 [8000/51088 (16%)]\tLoss: 0.743421\n",
      "Train Epoch: 3 [8320/51088 (16%)]\tLoss: 0.950315\n",
      "Train Epoch: 3 [8640/51088 (17%)]\tLoss: 1.108536\n",
      "Train Epoch: 3 [8960/51088 (18%)]\tLoss: 0.949253\n",
      "Train Epoch: 3 [9280/51088 (18%)]\tLoss: 0.857899\n",
      "Train Epoch: 3 [9600/51088 (19%)]\tLoss: 0.970062\n",
      "Train Epoch: 3 [9920/51088 (19%)]\tLoss: 0.387694\n",
      "Train Epoch: 3 [10240/51088 (20%)]\tLoss: 0.904364\n",
      "Train Epoch: 3 [10560/51088 (21%)]\tLoss: 0.533627\n",
      "Train Epoch: 3 [10880/51088 (21%)]\tLoss: 0.541368\n",
      "Train Epoch: 3 [11200/51088 (22%)]\tLoss: 0.586200\n",
      "Train Epoch: 3 [11520/51088 (23%)]\tLoss: 0.517755\n",
      "Train Epoch: 3 [11840/51088 (23%)]\tLoss: 1.029054\n",
      "Train Epoch: 3 [12160/51088 (24%)]\tLoss: 0.664088\n",
      "Train Epoch: 3 [12480/51088 (24%)]\tLoss: 0.623375\n",
      "Train Epoch: 3 [12800/51088 (25%)]\tLoss: 0.777618\n",
      "Train Epoch: 3 [13120/51088 (26%)]\tLoss: 0.893115\n",
      "Train Epoch: 3 [13440/51088 (26%)]\tLoss: 1.033591\n",
      "Train Epoch: 3 [13760/51088 (27%)]\tLoss: 0.789399\n",
      "Train Epoch: 3 [14080/51088 (28%)]\tLoss: 1.035345\n",
      "Train Epoch: 3 [14400/51088 (28%)]\tLoss: 1.092213\n",
      "Train Epoch: 3 [14720/51088 (29%)]\tLoss: 0.816082\n",
      "Train Epoch: 3 [15040/51088 (29%)]\tLoss: 0.838509\n",
      "Train Epoch: 3 [15360/51088 (30%)]\tLoss: 0.543788\n",
      "Train Epoch: 3 [15680/51088 (31%)]\tLoss: 0.844584\n",
      "Train Epoch: 3 [16000/51088 (31%)]\tLoss: 0.613882\n",
      "Train Epoch: 3 [16320/51088 (32%)]\tLoss: 0.603566\n",
      "Train Epoch: 3 [16640/51088 (33%)]\tLoss: 0.676908\n",
      "Train Epoch: 3 [16960/51088 (33%)]\tLoss: 0.898220\n",
      "Train Epoch: 3 [17280/51088 (34%)]\tLoss: 1.016690\n",
      "Train Epoch: 3 [17600/51088 (34%)]\tLoss: 0.636950\n",
      "Train Epoch: 3 [17920/51088 (35%)]\tLoss: 0.712327\n",
      "Train Epoch: 3 [18240/51088 (36%)]\tLoss: 0.846982\n",
      "Train Epoch: 3 [18560/51088 (36%)]\tLoss: 0.824791\n",
      "Train Epoch: 3 [18880/51088 (37%)]\tLoss: 0.489754\n",
      "Train Epoch: 3 [19200/51088 (38%)]\tLoss: 0.671251\n",
      "Train Epoch: 3 [19520/51088 (38%)]\tLoss: 0.782179\n",
      "Train Epoch: 3 [19840/51088 (39%)]\tLoss: 0.668966\n",
      "Train Epoch: 3 [20160/51088 (39%)]\tLoss: 0.580834\n",
      "Train Epoch: 3 [20480/51088 (40%)]\tLoss: 0.584406\n",
      "Train Epoch: 3 [20800/51088 (41%)]\tLoss: 0.999005\n",
      "Train Epoch: 3 [21120/51088 (41%)]\tLoss: 0.655086\n",
      "Train Epoch: 3 [21440/51088 (42%)]\tLoss: 0.543104\n",
      "Train Epoch: 3 [21760/51088 (43%)]\tLoss: 0.510568\n",
      "Train Epoch: 3 [22080/51088 (43%)]\tLoss: 0.863171\n",
      "Train Epoch: 3 [22400/51088 (44%)]\tLoss: 1.107482\n",
      "Train Epoch: 3 [22720/51088 (44%)]\tLoss: 0.527641\n",
      "Train Epoch: 3 [23040/51088 (45%)]\tLoss: 0.558057\n",
      "Train Epoch: 3 [23360/51088 (46%)]\tLoss: 1.099023\n",
      "Train Epoch: 3 [23680/51088 (46%)]\tLoss: 0.717525\n",
      "Train Epoch: 3 [24000/51088 (47%)]\tLoss: 0.433848\n",
      "Train Epoch: 3 [24320/51088 (48%)]\tLoss: 0.900324\n",
      "Train Epoch: 3 [24640/51088 (48%)]\tLoss: 0.875155\n",
      "Train Epoch: 3 [24960/51088 (49%)]\tLoss: 0.787920\n",
      "Train Epoch: 3 [25280/51088 (49%)]\tLoss: 0.420325\n",
      "Train Epoch: 3 [25600/51088 (50%)]\tLoss: 0.551888\n",
      "Train Epoch: 3 [25920/51088 (51%)]\tLoss: 1.009627\n",
      "Train Epoch: 3 [26240/51088 (51%)]\tLoss: 0.617745\n",
      "Train Epoch: 3 [26560/51088 (52%)]\tLoss: 0.818113\n",
      "Train Epoch: 3 [26880/51088 (53%)]\tLoss: 0.831200\n",
      "Train Epoch: 3 [27200/51088 (53%)]\tLoss: 0.599920\n",
      "Train Epoch: 3 [27520/51088 (54%)]\tLoss: 0.838692\n",
      "Train Epoch: 3 [27840/51088 (54%)]\tLoss: 0.596200\n",
      "Train Epoch: 3 [28160/51088 (55%)]\tLoss: 0.469420\n",
      "Train Epoch: 3 [28480/51088 (56%)]\tLoss: 0.569060\n",
      "Train Epoch: 3 [28800/51088 (56%)]\tLoss: 0.927153\n",
      "Train Epoch: 3 [29120/51088 (57%)]\tLoss: 0.440878\n",
      "Train Epoch: 3 [29440/51088 (58%)]\tLoss: 0.455066\n",
      "Train Epoch: 3 [29760/51088 (58%)]\tLoss: 0.845214\n",
      "Train Epoch: 3 [30080/51088 (59%)]\tLoss: 0.948710\n",
      "Train Epoch: 3 [30400/51088 (59%)]\tLoss: 0.713575\n",
      "Train Epoch: 3 [30720/51088 (60%)]\tLoss: 0.820900\n",
      "Train Epoch: 3 [31040/51088 (61%)]\tLoss: 0.689682\n",
      "Train Epoch: 3 [31360/51088 (61%)]\tLoss: 0.545524\n",
      "Train Epoch: 3 [31680/51088 (62%)]\tLoss: 0.664054\n",
      "Train Epoch: 3 [32000/51088 (63%)]\tLoss: 0.992239\n",
      "Train Epoch: 3 [32320/51088 (63%)]\tLoss: 0.449284\n",
      "Train Epoch: 3 [32640/51088 (64%)]\tLoss: 1.344178\n",
      "Train Epoch: 3 [32960/51088 (64%)]\tLoss: 0.379032\n",
      "Train Epoch: 3 [33280/51088 (65%)]\tLoss: 0.792036\n",
      "Train Epoch: 3 [33600/51088 (66%)]\tLoss: 0.581611\n",
      "Train Epoch: 3 [33920/51088 (66%)]\tLoss: 0.415853\n",
      "Train Epoch: 3 [34240/51088 (67%)]\tLoss: 0.732469\n",
      "Train Epoch: 3 [34560/51088 (68%)]\tLoss: 0.624971\n",
      "Train Epoch: 3 [34880/51088 (68%)]\tLoss: 0.816712\n",
      "Train Epoch: 3 [35200/51088 (69%)]\tLoss: 0.392314\n",
      "Train Epoch: 3 [35520/51088 (70%)]\tLoss: 1.284791\n",
      "Train Epoch: 3 [35840/51088 (70%)]\tLoss: 0.919681\n",
      "Train Epoch: 3 [36160/51088 (71%)]\tLoss: 0.840202\n",
      "Train Epoch: 3 [36480/51088 (71%)]\tLoss: 0.530999\n",
      "Train Epoch: 3 [36800/51088 (72%)]\tLoss: 0.542836\n",
      "Train Epoch: 3 [37120/51088 (73%)]\tLoss: 0.547450\n",
      "Train Epoch: 3 [37440/51088 (73%)]\tLoss: 0.622583\n",
      "Train Epoch: 3 [37760/51088 (74%)]\tLoss: 0.581667\n",
      "Train Epoch: 3 [38080/51088 (75%)]\tLoss: 1.058410\n",
      "Train Epoch: 3 [38400/51088 (75%)]\tLoss: 0.582309\n",
      "Train Epoch: 3 [38720/51088 (76%)]\tLoss: 0.474186\n",
      "Train Epoch: 3 [39040/51088 (76%)]\tLoss: 0.466948\n",
      "Train Epoch: 3 [39360/51088 (77%)]\tLoss: 0.358876\n",
      "Train Epoch: 3 [39680/51088 (78%)]\tLoss: 0.749701\n",
      "Train Epoch: 3 [40000/51088 (78%)]\tLoss: 0.755082\n",
      "Train Epoch: 3 [40320/51088 (79%)]\tLoss: 0.719356\n",
      "Train Epoch: 3 [40640/51088 (80%)]\tLoss: 0.244123\n",
      "Train Epoch: 3 [40960/51088 (80%)]\tLoss: 0.835401\n",
      "Train Epoch: 3 [41280/51088 (81%)]\tLoss: 0.728453\n",
      "Train Epoch: 3 [41600/51088 (81%)]\tLoss: 0.898413\n",
      "Train Epoch: 3 [41920/51088 (82%)]\tLoss: 0.589020\n",
      "Train Epoch: 3 [42240/51088 (83%)]\tLoss: 0.386556\n",
      "Train Epoch: 3 [42560/51088 (83%)]\tLoss: 0.835314\n",
      "Train Epoch: 3 [42880/51088 (84%)]\tLoss: 0.461634\n",
      "Train Epoch: 3 [43200/51088 (85%)]\tLoss: 0.542844\n",
      "Train Epoch: 3 [43520/51088 (85%)]\tLoss: 0.633638\n",
      "Train Epoch: 3 [43840/51088 (86%)]\tLoss: 0.833724\n",
      "Train Epoch: 3 [44160/51088 (86%)]\tLoss: 0.954196\n",
      "Train Epoch: 3 [44480/51088 (87%)]\tLoss: 0.548504\n",
      "Train Epoch: 3 [44800/51088 (88%)]\tLoss: 0.568842\n",
      "Train Epoch: 3 [45120/51088 (88%)]\tLoss: 0.781446\n",
      "Train Epoch: 3 [45440/51088 (89%)]\tLoss: 0.721133\n",
      "Train Epoch: 3 [45760/51088 (90%)]\tLoss: 0.319780\n",
      "Train Epoch: 3 [46080/51088 (90%)]\tLoss: 0.607191\n",
      "Train Epoch: 3 [46400/51088 (91%)]\tLoss: 0.958074\n",
      "Train Epoch: 3 [46720/51088 (91%)]\tLoss: 0.602573\n",
      "Train Epoch: 3 [47040/51088 (92%)]\tLoss: 0.637423\n",
      "Train Epoch: 3 [47360/51088 (93%)]\tLoss: 0.911691\n",
      "Train Epoch: 3 [47680/51088 (93%)]\tLoss: 0.625764\n",
      "Train Epoch: 3 [48000/51088 (94%)]\tLoss: 0.501480\n",
      "Train Epoch: 3 [48320/51088 (95%)]\tLoss: 0.356942\n",
      "Train Epoch: 3 [48640/51088 (95%)]\tLoss: 0.860938\n",
      "Train Epoch: 3 [48960/51088 (96%)]\tLoss: 0.616483\n",
      "Train Epoch: 3 [49280/51088 (96%)]\tLoss: 0.438232\n",
      "Train Epoch: 3 [49600/51088 (97%)]\tLoss: 1.199204\n",
      "Train Epoch: 3 [49920/51088 (98%)]\tLoss: 0.340010\n",
      "Train Epoch: 3 [50240/51088 (98%)]\tLoss: 1.005647\n",
      "Train Epoch: 3 [50560/51088 (99%)]\tLoss: 0.464391\n",
      "Train Epoch: 3 [50880/51088 (100%)]\tLoss: 0.569065\n",
      "\n",
      "Test set: Average loss: 0.4978, Accuracy: 5810/6798 (85%)\n",
      "\n",
      "Saving model...\n"
     ]
    }
   ],
   "source": [
    "best_valid_loss = np.inf\n",
    "iteration = 0\n",
    "epoch = 1\n",
    "\n",
    "while (epoch < epochs + 1) and (iteration < patience):\n",
    "    train(train_loader, model, optimizer, epoch, False, 10)\n",
    "    valid_loss = test(valid_loader, model, False)\n",
    "    if valid_loss > best_valid_loss:\n",
    "        iteration += 1\n",
    "        print('Loss was not improved, iteration {0}'.format(str(iteration)))\n",
    "    else:\n",
    "        print('Saving model...')\n",
    "        iteration = 0\n",
    "        best_valid_loss = valid_loss\n",
    "        state = {\n",
    "            'net': model,\n",
    "            'acc': valid_loss,\n",
    "            'epoch': epoch,\n",
    "        }\n",
    "        if not os.path.isdir('checkpoint'):\n",
    "            os.mkdir('checkpoint')\n",
    "        torch.save(state, './checkpoint/ckpt.t7')\n",
    "    epoch += 1"
   ]
  },
  {
   "cell_type": "markdown",
   "metadata": {},
   "source": [
    "# Test and visualization"
   ]
  },
  {
   "cell_type": "code",
   "execution_count": 36,
   "metadata": {},
   "outputs": [
    {
     "name": "stderr",
     "output_type": "stream",
     "text": [
      "GCommandsPytorch/train.py:33: UserWarning: volatile was removed and now has no effect. Use `with torch.no_grad():` instead.\n",
      "  data, target = Variable(data, volatile=True), Variable(target)\n",
      "GCommandsPytorch/model.py:21: UserWarning: Implicit dimension choice for log_softmax has been deprecated. Change the call to include dim=X as an argument.\n",
      "  return F.log_softmax(x)\n",
      "GCommandsPytorch/train.py:35: UserWarning: invalid index of a 0-dim tensor. This will be an error in PyTorch 0.5. Use tensor.item() to convert a 0-dim tensor to a Python number\n",
      "  test_loss += F.nll_loss(output, target, size_average=False).data[0]  # sum up batch loss\n"
     ]
    },
    {
     "name": "stdout",
     "output_type": "stream",
     "text": [
      "\n",
      "Test set: Average loss: 0.5164, Accuracy: 5819/6835 (85%)\n",
      "\n"
     ]
    },
    {
     "data": {
      "text/plain": [
       "tensor(0.5164)"
      ]
     },
     "execution_count": 36,
     "metadata": {},
     "output_type": "execute_result"
    }
   ],
   "source": [
    "test(test_loader, model, False)"
   ]
  },
  {
   "cell_type": "code",
   "execution_count": null,
   "metadata": {},
   "outputs": [],
   "source": []
  }
 ],
 "metadata": {
  "kernelspec": {
   "display_name": "tensorflow",
   "language": "python",
   "name": "tensorflow"
  },
  "language_info": {
   "codemirror_mode": {
    "name": "ipython",
    "version": 3
   },
   "file_extension": ".py",
   "mimetype": "text/x-python",
   "name": "python",
   "nbconvert_exporter": "python",
   "pygments_lexer": "ipython3",
   "version": "3.6.1"
  }
 },
 "nbformat": 4,
 "nbformat_minor": 2
}
